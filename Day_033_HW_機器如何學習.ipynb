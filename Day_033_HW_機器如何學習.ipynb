{
 "cells": [
  {
   "cell_type": "markdown",
   "metadata": {},
   "source": [
    "## 練習時間"
   ]
  },
  {
   "cell_type": "markdown",
   "metadata": {},
   "source": [
    "請觀看李宏毅教授以神奇寶貝進化 CP 值預測的範例，解說何謂機器學習與過擬合。並回答以下問題"
   ]
  },
  {
   "cell_type": "markdown",
   "metadata": {},
   "source": [
    "[youtube](https://www.youtube.com/watch?v=fegAeph9UaA)"
   ]
  },
  {
   "cell_type": "markdown",
   "metadata": {},
   "source": [
    "### 1. 模型的泛化能力 (generalization) 是指什麼？ \n",
    "* 當模型在訓練階段透過已知的資料進行學習後，它能夠對新的、之前未曾見過的資料做出準確的預測或推斷的能力\n",
    "* 泛化能力是評估一個模型優劣的重要指標，好的泛化能力意味著模型不僅能夠在訓練資料上表現良好也能夠對新的、現實中的資料有較好的預測能力\n",
    "### 2. 分類問題與回歸問題分別可用的目標函數有哪些？\n",
    "* 分類問題可用的目標函數: Cross-Entropy Loss、Log Loss、Hinge Loss、Softmax Loss\n",
    "* 回歸問題可用的目標函數: Mean Squared Error(MSE)、Mean Absolute Error(MAE)、Huber Loss、Logarithmic Loss"
   ]
  }
 ],
 "metadata": {
  "kernelspec": {
   "display_name": "Python 3",
   "language": "python",
   "name": "python3"
  },
  "language_info": {
   "codemirror_mode": {
    "name": "ipython",
    "version": 3
   },
   "file_extension": ".py",
   "mimetype": "text/x-python",
   "name": "python",
   "nbconvert_exporter": "python",
   "pygments_lexer": "ipython3",
   "version": "3.8.11"
  }
 },
 "nbformat": 4,
 "nbformat_minor": 2
}
