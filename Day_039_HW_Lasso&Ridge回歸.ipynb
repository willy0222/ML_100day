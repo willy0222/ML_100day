{
 "cells": [
  {
   "cell_type": "markdown",
   "metadata": {},
   "source": [
    "## [作業重點]\n",
    "清楚了解 L1, L2 的意義與差異為何，並了解 LASSO 與 Ridge 之間的差異與使用情境"
   ]
  },
  {
   "cell_type": "markdown",
   "metadata": {},
   "source": [
    "## 作業"
   ]
  },
  {
   "cell_type": "markdown",
   "metadata": {},
   "source": [
    "請閱讀相關文獻，並回答下列問題\n",
    "\n",
    "[脊回歸 (Ridge Regression)](https://blog.csdn.net/daunxx/article/details/51578787)\n",
    "[Linear, Ridge, Lasso Regression 本質區別](https://www.zhihu.com/question/38121173)\n",
    "\n",
    "1. LASSO 回歸可以被用來作為 Feature selection 的工具，請了解 LASSO 模型為什麼可用來作 Feature selection\n",
    "* LASSO 回歸（Least Absolute Shrinkage and Selection Operator Regression）在進行模型擬合時，使用了 L1 正則化項，這使得某些係數變為零，從而實現了特徵的選擇（Feature Selection）。L1 正則化的特點是會將一些係數逼近至零，因此對應的特徵也就被“選擇”了，不再對模型有實質性的影響。這是因為 L1 正則化會在最小化損失函數的過程中，將某些不重要的特徵的係數收縮為零，從而實現了特徵的篩選。這使得 LASSO 回歸成為了一種有效的特徵選擇工具，可以排除對模型不重要的特徵。\n",
    "\n",
    "2. 當自變數 (X) 存在高度共線性時，Ridge Regression 可以處理這樣的問題嗎?\n",
    "* 當自變數之間存在高度共線性時，也就是說它們之間存在較強的相關性，這可能會導致回歸模型的不穩定性和係數估計的不準確性。Ridge Regression就是為了處理這樣的問題而提出的。Ridge回歸使用L2正則化項，這項正則化可以幫助減少係數的數值大小，從而減緩了共線性對係數估計的影響。雖然Ridge回歸無法將係數壓縮到零，但它可以減少共線性引起的係數膨脹（係數變得極大）問題，從而提高模型的穩定性和預測準確性。\n"
   ]
  },
  {
   "cell_type": "code",
   "execution_count": null,
   "metadata": {},
   "outputs": [],
   "source": []
  }
 ],
 "metadata": {
  "kernelspec": {
   "display_name": "Python 3",
   "language": "python",
   "name": "python3"
  },
  "language_info": {
   "codemirror_mode": {
    "name": "ipython",
    "version": 3
   },
   "file_extension": ".py",
   "mimetype": "text/x-python",
   "name": "python",
   "nbconvert_exporter": "python",
   "pygments_lexer": "ipython3",
   "version": "3.8.11"
  }
 },
 "nbformat": 4,
 "nbformat_minor": 2
}
