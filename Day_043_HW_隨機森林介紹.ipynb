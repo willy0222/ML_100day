{
 "cells": [
  {
   "cell_type": "markdown",
   "metadata": {},
   "source": [
    "## [作業重點]\n",
    "了解隨機森林改善了決策樹的什麼缺點？是用什麼方法改進的？"
   ]
  },
  {
   "cell_type": "markdown",
   "metadata": {},
   "source": [
    "## 作業\n",
    "\n",
    "閱讀以下兩篇文獻，了解隨機森林原理，並試著回答後續的思考問題\n",
    "- [隨機森林 (random forest) - 中文](http://hhtucode.blogspot.tw/2013/06/ml-random-forest.html)\n",
    "- [how random forest works - 英文](https://medium.com/@Synced/how-random-forest-algorithm-works-in-machine-learning-3c0fe15b6674)"
   ]
  },
  {
   "cell_type": "markdown",
   "metadata": {},
   "source": [
    "1.隨機森林中的每一棵樹，是希望能夠\n",
    "* 每棵樹盡量複雜，在通過投票的方式處理over fitting的問題，所以希望每一棵樹能夠盡量的生長。\n",
    "\n",
    "2.假設總共有 N 筆資料，每棵樹用取後放回的方式抽了總共 N 筆資料生成，請問這棵樹大約使用了多少 % 不重複的原資料生成? hint: 0.632 bootstrap\n",
    "* Bootstrap是一種用於估計統計量置信區間和評估模型表現的統計方法，其中在取樣時使用了取後放回的方式。在使用取後放回的方式產生資料集時，每個樣本被選取的機率是相等的。根據0.632 bootstrap法則，當我們使用取後放回的方式產生N個樣本的資料集時，每個樣本被抽到的機率約為(1-1/N)^N。這個機率近似於e^-1，約為0.368。那麼，每個樣本未被抽中的機率為1-(1-1/N)^N，約為0.632。也就是說，約有63.2%的原始資料被用來產生這棵樹，而約有36.8%的資料在這個過程中沒有被抽到，因此是不重複的原始資料。"
   ]
  }
 ],
 "metadata": {
  "kernelspec": {
   "display_name": "Python 3",
   "language": "python",
   "name": "python3"
  },
  "language_info": {
   "codemirror_mode": {
    "name": "ipython",
    "version": 3
   },
   "file_extension": ".py",
   "mimetype": "text/x-python",
   "name": "python",
   "nbconvert_exporter": "python",
   "pygments_lexer": "ipython3",
   "version": "3.8.11"
  }
 },
 "nbformat": 4,
 "nbformat_minor": 2
}
