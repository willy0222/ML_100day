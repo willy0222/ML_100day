{
 "cells": [
  {
   "cell_type": "markdown",
   "metadata": {},
   "source": [
    "### 作業\n",
    "請使用不同的資料集，並使用 hyper-parameter search 的方式，看能不能找出最佳的超參數組合"
   ]
  },
  {
   "cell_type": "code",
   "execution_count": 1,
   "metadata": {},
   "outputs": [],
   "source": [
    "from sklearn.datasets import load_breast_cancer\n",
    "from sklearn.model_selection import train_test_split, KFold, GridSearchCV, RandomizedSearchCV\n",
    "from sklearn.metrics import accuracy_score\n",
    "from sklearn.ensemble import GradientBoostingClassifier\n",
    "from scipy.stats import uniform, randint"
   ]
  },
  {
   "cell_type": "code",
   "execution_count": 2,
   "metadata": {},
   "outputs": [
    {
     "name": "stdout",
     "output_type": "stream",
     "text": [
      "Accuracy: 0.9385964912280702\n"
     ]
    }
   ],
   "source": [
    "cancer = load_breast_cancer()\n",
    "x_train, x_test, y_train, y_test = train_test_split(cancer.data, cancer.target, test_size=0.2, random_state=4)\n",
    "\n",
    "gb_classifier = GradientBoostingClassifier()\n",
    "gb_classifier.fit(x_train, y_train)\n",
    "\n",
    "gb_pred = gb_classifier.predict(x_test)\n",
    "acc = accuracy_score(y_test, gb_pred)\n",
    "print(\"Accuracy:\", acc)"
   ]
  },
  {
   "cell_type": "markdown",
   "metadata": {},
   "source": [
    "### GridSearch超參數"
   ]
  },
  {
   "cell_type": "code",
   "execution_count": 3,
   "metadata": {},
   "outputs": [],
   "source": [
    "# 定義要調整的超參數網格\n",
    "param_grid = {\n",
    "     'n_estimators': [50, 100, 150, 200],\n",
    "     'learning_rate': [0.01, 0.1, 0.2],\n",
    "     # 增加更多要調整的超參數及其候選值\n",
    "}"
   ]
  },
  {
   "cell_type": "code",
   "execution_count": 4,
   "metadata": {},
   "outputs": [
    {
     "data": {
      "text/plain": [
       "GridSearchCV(cv=5, estimator=GradientBoostingClassifier(),\n",
       "             param_grid={'learning_rate': [0.01, 0.1, 0.2],\n",
       "                         'n_estimators': [50, 100, 150, 200]})"
      ]
     },
     "execution_count": 4,
     "metadata": {},
     "output_type": "execute_result"
    }
   ],
   "source": [
    "# 初始化 GradientBoostingClassifier\n",
    "gb_classifier = GradientBoostingClassifier()\n",
    "\n",
    "# 使用 GridSearchCV 進行超參數搜索\n",
    "grid_search = GridSearchCV(gb_classifier, param_grid, cv=5)\n",
    "grid_search.fit(x_train, y_train)"
   ]
  },
  {
   "cell_type": "code",
   "execution_count": 5,
   "metadata": {},
   "outputs": [
    {
     "name": "stdout",
     "output_type": "stream",
     "text": [
      "Best Parameters: {'learning_rate': 0.1, 'n_estimators': 150}\n",
      "Accuracy: 0.9473684210526315\n"
     ]
    }
   ],
   "source": [
    "# 取得最佳參數和最佳模型\n",
    "best_params = grid_search.best_params_\n",
    "best_model = grid_search.best_estimator_\n",
    "\n",
    "# 使用最佳模型進行預測\n",
    "gb_pred = best_model.predict(x_test)\n",
    "acc = accuracy_score(y_test, gb_pred)\n",
    "print(\"Best Parameters:\", best_params)\n",
    "print(\"Accuracy:\", acc)"
   ]
  },
  {
   "cell_type": "markdown",
   "metadata": {},
   "source": [
    "### RandomizedSearch超參數"
   ]
  },
  {
   "cell_type": "code",
   "execution_count": 8,
   "metadata": {},
   "outputs": [
    {
     "name": "stdout",
     "output_type": "stream",
     "text": [
      "Best Parameters: {'learning_rate': 0.14905108535608255, 'n_estimators': 173}\n",
      "Accuracy: 0.9473684210526315\n"
     ]
    }
   ],
   "source": [
    "# 定義要調整的超參數分佈\n",
    "param_dist = {\n",
    "     'n_estimators': randint(50, 200), # 隨機選取50到200之間的整數\n",
    "     'learning_rate': uniform(0.01, 0.2), # 在0.01到0.2之間的均勻分佈中隨機選擇\n",
    "     # 增加更多要調整的超參數及其分佈\n",
    "}\n",
    "\n",
    "# 初始化 GradientBoostingClassifier\n",
    "gb_classifier = GradientBoostingClassifier()\n",
    "\n",
    "# 使用 RandomizedSearchCV 進行超參數搜索\n",
    "random_search = RandomizedSearchCV(gb_classifier, param_distributions=param_dist, n_iter=10, cv=5)\n",
    "random_search.fit(x_train, y_train)\n",
    "\n",
    "# 取得最佳參數和最佳模型\n",
    "best_params = random_search.best_params_\n",
    "best_model = random_search.best_estimator_\n",
    "\n",
    "# 使用最佳模型進行預測\n",
    "gb_pred = best_model.predict(x_test)\n",
    "acc = accuracy_score(y_test, gb_pred)\n",
    "print(\"Best Parameters:\", best_params)\n",
    "print(\"Accuracy:\", acc)"
   ]
  },
  {
   "cell_type": "code",
   "execution_count": null,
   "metadata": {},
   "outputs": [],
   "source": []
  }
 ],
 "metadata": {
  "kernelspec": {
   "display_name": "Python 3",
   "language": "python",
   "name": "python3"
  },
  "language_info": {
   "codemirror_mode": {
    "name": "ipython",
    "version": 3
   },
   "file_extension": ".py",
   "mimetype": "text/x-python",
   "name": "python",
   "nbconvert_exporter": "python",
   "pygments_lexer": "ipython3",
   "version": "3.8.11"
  }
 },
 "nbformat": 4,
 "nbformat_minor": 4
}
