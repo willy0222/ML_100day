{
 "cells": [
  {
   "cell_type": "markdown",
   "id": "968ecf32",
   "metadata": {},
   "source": [
    "# ML_100day Midterm\n",
    "- [Enron Fraud Dataset 安隆公司詐欺案資料集](https://www.kaggle.com/competitions/2021-ml100marathon-midterm)"
   ]
  },
  {
   "cell_type": "markdown",
   "id": "95e2aba7",
   "metadata": {},
   "source": [
    "## Step1 找出問題\n",
    "- 這個問題是如何產生的？安隆公司曾是間能源公司，卻於2002年宣告破產，揭露其財報造假的醜聞，而本次的問題在於找出可疑的詐欺犯  \n",
    "- 它提供了哪些資訊、資料與變數？薪水、獎金、長期獎勵、延期收入/付款、貨代墊款、董事費、股票價值等等   \n",
    "- 這個問題的預期產出是什麼？找出可疑的詐欺犯罪者(Person of Interest,POI)  \n",
    "- 會對這個問題可以產生什麼結果？同上    \n",
    "\n",
    "### 用什麼方法？\n",
    "- 該問題是監督還是非監督學習？監督式學習  \n",
    "- 該問題的結果是分類還是回歸？分類"
   ]
  },
  {
   "cell_type": "code",
   "execution_count": 1,
   "id": "c89c7067",
   "metadata": {},
   "outputs": [],
   "source": [
    "import numpy as np\n",
    "import pandas as pd\n",
    "import matplotlib.pyplot as plt\n",
    "import seaborn as sns\n",
    "%matplotlib inline\n",
    "import warnings\n",
    "warnings.filterwarnings('ignore')"
   ]
  },
  {
   "cell_type": "markdown",
   "id": "6bc4ae78",
   "metadata": {},
   "source": [
    "## Step2 Train / Test 資料集"
   ]
  },
  {
   "cell_type": "code",
   "execution_count": 2,
   "id": "3f0995e6",
   "metadata": {},
   "outputs": [],
   "source": [
    "# Load Data\n",
    "df_train = pd.read_csv(\"train_data.csv\")\n",
    "df_test = pd.read_csv(\"test_features.csv\")\n",
    "df_sample = pd.read_csv('sample_submission.csv')"
   ]
  },
  {
   "cell_type": "code",
   "execution_count": 3,
   "id": "98ae4a0b",
   "metadata": {},
   "outputs": [
    {
     "data": {
      "text/plain": [
       "(113, 22)"
      ]
     },
     "execution_count": 3,
     "metadata": {},
     "output_type": "execute_result"
    }
   ],
   "source": [
    "# train data\n",
    "df_train.shape"
   ]
  },
  {
   "cell_type": "code",
   "execution_count": 4,
   "id": "ad8c7098",
   "metadata": {},
   "outputs": [
    {
     "data": {
      "text/plain": [
       "(33, 21)"
      ]
     },
     "execution_count": 4,
     "metadata": {},
     "output_type": "execute_result"
    }
   ],
   "source": [
    "# test data\n",
    "df_test.shape"
   ]
  },
  {
   "cell_type": "code",
   "execution_count": 5,
   "id": "c8d89be6",
   "metadata": {},
   "outputs": [
    {
     "data": {
      "text/html": [
       "<div>\n",
       "<style scoped>\n",
       "    .dataframe tbody tr th:only-of-type {\n",
       "        vertical-align: middle;\n",
       "    }\n",
       "\n",
       "    .dataframe tbody tr th {\n",
       "        vertical-align: top;\n",
       "    }\n",
       "\n",
       "    .dataframe thead th {\n",
       "        text-align: right;\n",
       "    }\n",
       "</style>\n",
       "<table border=\"1\" class=\"dataframe\">\n",
       "  <thead>\n",
       "    <tr style=\"text-align: right;\">\n",
       "      <th></th>\n",
       "      <th>name</th>\n",
       "      <th>poi</th>\n",
       "    </tr>\n",
       "  </thead>\n",
       "  <tbody>\n",
       "    <tr>\n",
       "      <th>0</th>\n",
       "      <td>BELDEN TIMOTHY N</td>\n",
       "      <td>0.007201</td>\n",
       "    </tr>\n",
       "    <tr>\n",
       "      <th>1</th>\n",
       "      <td>BOWEN JR RAYMOND M</td>\n",
       "      <td>0.903340</td>\n",
       "    </tr>\n",
       "    <tr>\n",
       "      <th>2</th>\n",
       "      <td>HANNON KEVIN P</td>\n",
       "      <td>0.572731</td>\n",
       "    </tr>\n",
       "    <tr>\n",
       "      <th>3</th>\n",
       "      <td>DELAINEY DAVID W</td>\n",
       "      <td>0.950927</td>\n",
       "    </tr>\n",
       "    <tr>\n",
       "      <th>4</th>\n",
       "      <td>CAUSEY RICHARD A</td>\n",
       "      <td>0.942402</td>\n",
       "    </tr>\n",
       "  </tbody>\n",
       "</table>\n",
       "</div>"
      ],
      "text/plain": [
       "                 name       poi\n",
       "0    BELDEN TIMOTHY N  0.007201\n",
       "1  BOWEN JR RAYMOND M  0.903340\n",
       "2      HANNON KEVIN P  0.572731\n",
       "3    DELAINEY DAVID W  0.950927\n",
       "4    CAUSEY RICHARD A  0.942402"
      ]
     },
     "execution_count": 5,
     "metadata": {},
     "output_type": "execute_result"
    }
   ],
   "source": [
    "# 答案範例\n",
    "df_sample.head()"
   ]
  },
  {
   "cell_type": "markdown",
   "id": "6784faa5",
   "metadata": {},
   "source": [
    "## Step3 進行探索式資料分析(EDA)\n",
    "EDA (Exploratory Data Analysis)  \n",
    "- 確認資料狀況\n",
    "- 樞紐分析與視覺化\n",
    "\n",
    "### A. 確認資料狀況\n",
    "- 檢視欄位的種類\n",
    "- 檢視資料的型態：名目/類別屬性、次序/順序屬性、等距/區間屬性、比率/比例屬性\n",
    "- 檢視錯誤與分布  "
   ]
  },
  {
   "cell_type": "code",
   "execution_count": 6,
   "id": "0353f499",
   "metadata": {},
   "outputs": [
    {
     "name": "stdout",
     "output_type": "stream",
     "text": [
      "(146, 21)\n"
     ]
    },
    {
     "data": {
      "text/html": [
       "<div>\n",
       "<style scoped>\n",
       "    .dataframe tbody tr th:only-of-type {\n",
       "        vertical-align: middle;\n",
       "    }\n",
       "\n",
       "    .dataframe tbody tr th {\n",
       "        vertical-align: top;\n",
       "    }\n",
       "\n",
       "    .dataframe thead th {\n",
       "        text-align: right;\n",
       "    }\n",
       "</style>\n",
       "<table border=\"1\" class=\"dataframe\">\n",
       "  <thead>\n",
       "    <tr style=\"text-align: right;\">\n",
       "      <th></th>\n",
       "      <th>name</th>\n",
       "      <th>bonus</th>\n",
       "      <th>deferral_payments</th>\n",
       "      <th>deferred_income</th>\n",
       "      <th>director_fees</th>\n",
       "      <th>email_address</th>\n",
       "      <th>exercised_stock_options</th>\n",
       "      <th>expenses</th>\n",
       "      <th>from_messages</th>\n",
       "      <th>from_poi_to_this_person</th>\n",
       "      <th>...</th>\n",
       "      <th>loan_advances</th>\n",
       "      <th>long_term_incentive</th>\n",
       "      <th>other</th>\n",
       "      <th>restricted_stock</th>\n",
       "      <th>restricted_stock_deferred</th>\n",
       "      <th>salary</th>\n",
       "      <th>shared_receipt_with_poi</th>\n",
       "      <th>to_messages</th>\n",
       "      <th>total_payments</th>\n",
       "      <th>total_stock_value</th>\n",
       "    </tr>\n",
       "  </thead>\n",
       "  <tbody>\n",
       "    <tr>\n",
       "      <th>0</th>\n",
       "      <td>RICE KENNETH D</td>\n",
       "      <td>1750000.0</td>\n",
       "      <td>NaN</td>\n",
       "      <td>-3504386.0</td>\n",
       "      <td>NaN</td>\n",
       "      <td>ken.rice@enron.com</td>\n",
       "      <td>19794175.0</td>\n",
       "      <td>46950.0</td>\n",
       "      <td>18.0</td>\n",
       "      <td>42.0</td>\n",
       "      <td>...</td>\n",
       "      <td>NaN</td>\n",
       "      <td>1617011.0</td>\n",
       "      <td>174839.0</td>\n",
       "      <td>2748364.0</td>\n",
       "      <td>NaN</td>\n",
       "      <td>420636.0</td>\n",
       "      <td>864.0</td>\n",
       "      <td>905.0</td>\n",
       "      <td>505050.0</td>\n",
       "      <td>22542539.0</td>\n",
       "    </tr>\n",
       "    <tr>\n",
       "      <th>1</th>\n",
       "      <td>SKILLING JEFFREY K</td>\n",
       "      <td>5600000.0</td>\n",
       "      <td>NaN</td>\n",
       "      <td>NaN</td>\n",
       "      <td>NaN</td>\n",
       "      <td>jeff.skilling@enron.com</td>\n",
       "      <td>19250000.0</td>\n",
       "      <td>29336.0</td>\n",
       "      <td>108.0</td>\n",
       "      <td>88.0</td>\n",
       "      <td>...</td>\n",
       "      <td>NaN</td>\n",
       "      <td>1920000.0</td>\n",
       "      <td>22122.0</td>\n",
       "      <td>6843672.0</td>\n",
       "      <td>NaN</td>\n",
       "      <td>1111258.0</td>\n",
       "      <td>2042.0</td>\n",
       "      <td>3627.0</td>\n",
       "      <td>8682716.0</td>\n",
       "      <td>26093672.0</td>\n",
       "    </tr>\n",
       "    <tr>\n",
       "      <th>2</th>\n",
       "      <td>SHELBY REX</td>\n",
       "      <td>200000.0</td>\n",
       "      <td>NaN</td>\n",
       "      <td>-4167.0</td>\n",
       "      <td>NaN</td>\n",
       "      <td>rex.shelby@enron.com</td>\n",
       "      <td>1624396.0</td>\n",
       "      <td>22884.0</td>\n",
       "      <td>39.0</td>\n",
       "      <td>13.0</td>\n",
       "      <td>...</td>\n",
       "      <td>NaN</td>\n",
       "      <td>NaN</td>\n",
       "      <td>1573324.0</td>\n",
       "      <td>869220.0</td>\n",
       "      <td>NaN</td>\n",
       "      <td>211844.0</td>\n",
       "      <td>91.0</td>\n",
       "      <td>225.0</td>\n",
       "      <td>2003885.0</td>\n",
       "      <td>2493616.0</td>\n",
       "    </tr>\n",
       "    <tr>\n",
       "      <th>3</th>\n",
       "      <td>KOPPER MICHAEL J</td>\n",
       "      <td>800000.0</td>\n",
       "      <td>NaN</td>\n",
       "      <td>NaN</td>\n",
       "      <td>NaN</td>\n",
       "      <td>michael.kopper@enron.com</td>\n",
       "      <td>NaN</td>\n",
       "      <td>118134.0</td>\n",
       "      <td>NaN</td>\n",
       "      <td>NaN</td>\n",
       "      <td>...</td>\n",
       "      <td>NaN</td>\n",
       "      <td>602671.0</td>\n",
       "      <td>907502.0</td>\n",
       "      <td>985032.0</td>\n",
       "      <td>NaN</td>\n",
       "      <td>224305.0</td>\n",
       "      <td>NaN</td>\n",
       "      <td>NaN</td>\n",
       "      <td>2652612.0</td>\n",
       "      <td>985032.0</td>\n",
       "    </tr>\n",
       "    <tr>\n",
       "      <th>4</th>\n",
       "      <td>CALGER CHRISTOPHER F</td>\n",
       "      <td>1250000.0</td>\n",
       "      <td>NaN</td>\n",
       "      <td>-262500.0</td>\n",
       "      <td>NaN</td>\n",
       "      <td>christopher.calger@enron.com</td>\n",
       "      <td>NaN</td>\n",
       "      <td>35818.0</td>\n",
       "      <td>144.0</td>\n",
       "      <td>199.0</td>\n",
       "      <td>...</td>\n",
       "      <td>NaN</td>\n",
       "      <td>375304.0</td>\n",
       "      <td>486.0</td>\n",
       "      <td>126027.0</td>\n",
       "      <td>NaN</td>\n",
       "      <td>240189.0</td>\n",
       "      <td>2188.0</td>\n",
       "      <td>2598.0</td>\n",
       "      <td>1639297.0</td>\n",
       "      <td>126027.0</td>\n",
       "    </tr>\n",
       "  </tbody>\n",
       "</table>\n",
       "<p>5 rows × 21 columns</p>\n",
       "</div>"
      ],
      "text/plain": [
       "                   name      bonus  deferral_payments  deferred_income  \\\n",
       "0        RICE KENNETH D  1750000.0                NaN       -3504386.0   \n",
       "1    SKILLING JEFFREY K  5600000.0                NaN              NaN   \n",
       "2            SHELBY REX   200000.0                NaN          -4167.0   \n",
       "3      KOPPER MICHAEL J   800000.0                NaN              NaN   \n",
       "4  CALGER CHRISTOPHER F  1250000.0                NaN        -262500.0   \n",
       "\n",
       "   director_fees                 email_address  exercised_stock_options  \\\n",
       "0            NaN            ken.rice@enron.com               19794175.0   \n",
       "1            NaN       jeff.skilling@enron.com               19250000.0   \n",
       "2            NaN          rex.shelby@enron.com                1624396.0   \n",
       "3            NaN      michael.kopper@enron.com                      NaN   \n",
       "4            NaN  christopher.calger@enron.com                      NaN   \n",
       "\n",
       "   expenses  from_messages  from_poi_to_this_person  ...  loan_advances  \\\n",
       "0   46950.0           18.0                     42.0  ...            NaN   \n",
       "1   29336.0          108.0                     88.0  ...            NaN   \n",
       "2   22884.0           39.0                     13.0  ...            NaN   \n",
       "3  118134.0            NaN                      NaN  ...            NaN   \n",
       "4   35818.0          144.0                    199.0  ...            NaN   \n",
       "\n",
       "   long_term_incentive      other  restricted_stock  \\\n",
       "0            1617011.0   174839.0         2748364.0   \n",
       "1            1920000.0    22122.0         6843672.0   \n",
       "2                  NaN  1573324.0          869220.0   \n",
       "3             602671.0   907502.0          985032.0   \n",
       "4             375304.0      486.0          126027.0   \n",
       "\n",
       "   restricted_stock_deferred     salary  shared_receipt_with_poi  to_messages  \\\n",
       "0                        NaN   420636.0                    864.0        905.0   \n",
       "1                        NaN  1111258.0                   2042.0       3627.0   \n",
       "2                        NaN   211844.0                     91.0        225.0   \n",
       "3                        NaN   224305.0                      NaN          NaN   \n",
       "4                        NaN   240189.0                   2188.0       2598.0   \n",
       "\n",
       "   total_payments  total_stock_value  \n",
       "0        505050.0         22542539.0  \n",
       "1       8682716.0         26093672.0  \n",
       "2       2003885.0          2493616.0  \n",
       "3       2652612.0           985032.0  \n",
       "4       1639297.0           126027.0  \n",
       "\n",
       "[5 rows x 21 columns]"
      ]
     },
     "execution_count": 6,
     "metadata": {},
     "output_type": "execute_result"
    }
   ],
   "source": [
    "# test data 和 train data差異 : 沒有poi欄位\n",
    "train_Y = df_train['poi'] # 找出target\n",
    "df_train = df_train.drop(['poi'], axis=1) # 從train data drop target\n",
    "df = pd.concat([df_train, df_test], axis=0) # 合併train/test data\n",
    "print(df.shape)\n",
    "df.head()"
   ]
  },
  {
   "cell_type": "code",
   "execution_count": 8,
   "id": "4446988c",
   "metadata": {},
   "outputs": [
    {
     "data": {
      "text/html": [
       "<div>\n",
       "<style scoped>\n",
       "    .dataframe tbody tr th:only-of-type {\n",
       "        vertical-align: middle;\n",
       "    }\n",
       "\n",
       "    .dataframe tbody tr th {\n",
       "        vertical-align: top;\n",
       "    }\n",
       "\n",
       "    .dataframe thead th {\n",
       "        text-align: right;\n",
       "    }\n",
       "</style>\n",
       "<table border=\"1\" class=\"dataframe\">\n",
       "  <thead>\n",
       "    <tr style=\"text-align: right;\">\n",
       "      <th></th>\n",
       "      <th>Missing 比例</th>\n",
       "    </tr>\n",
       "  </thead>\n",
       "  <tbody>\n",
       "    <tr>\n",
       "      <th>loan_advances</th>\n",
       "      <td>97.260274</td>\n",
       "    </tr>\n",
       "    <tr>\n",
       "      <th>director_fees</th>\n",
       "      <td>88.356164</td>\n",
       "    </tr>\n",
       "    <tr>\n",
       "      <th>restricted_stock_deferred</th>\n",
       "      <td>87.671233</td>\n",
       "    </tr>\n",
       "    <tr>\n",
       "      <th>deferral_payments</th>\n",
       "      <td>73.287671</td>\n",
       "    </tr>\n",
       "    <tr>\n",
       "      <th>deferred_income</th>\n",
       "      <td>66.438356</td>\n",
       "    </tr>\n",
       "    <tr>\n",
       "      <th>long_term_incentive</th>\n",
       "      <td>54.794521</td>\n",
       "    </tr>\n",
       "    <tr>\n",
       "      <th>bonus</th>\n",
       "      <td>43.835616</td>\n",
       "    </tr>\n",
       "    <tr>\n",
       "      <th>from_messages</th>\n",
       "      <td>41.095890</td>\n",
       "    </tr>\n",
       "    <tr>\n",
       "      <th>from_poi_to_this_person</th>\n",
       "      <td>41.095890</td>\n",
       "    </tr>\n",
       "    <tr>\n",
       "      <th>from_this_person_to_poi</th>\n",
       "      <td>41.095890</td>\n",
       "    </tr>\n",
       "    <tr>\n",
       "      <th>shared_receipt_with_poi</th>\n",
       "      <td>41.095890</td>\n",
       "    </tr>\n",
       "    <tr>\n",
       "      <th>to_messages</th>\n",
       "      <td>41.095890</td>\n",
       "    </tr>\n",
       "    <tr>\n",
       "      <th>other</th>\n",
       "      <td>36.301370</td>\n",
       "    </tr>\n",
       "    <tr>\n",
       "      <th>expenses</th>\n",
       "      <td>34.931507</td>\n",
       "    </tr>\n",
       "    <tr>\n",
       "      <th>salary</th>\n",
       "      <td>34.931507</td>\n",
       "    </tr>\n",
       "    <tr>\n",
       "      <th>exercised_stock_options</th>\n",
       "      <td>30.136986</td>\n",
       "    </tr>\n",
       "    <tr>\n",
       "      <th>restricted_stock</th>\n",
       "      <td>24.657534</td>\n",
       "    </tr>\n",
       "    <tr>\n",
       "      <th>email_address</th>\n",
       "      <td>23.972603</td>\n",
       "    </tr>\n",
       "    <tr>\n",
       "      <th>total_payments</th>\n",
       "      <td>14.383562</td>\n",
       "    </tr>\n",
       "    <tr>\n",
       "      <th>total_stock_value</th>\n",
       "      <td>13.698630</td>\n",
       "    </tr>\n",
       "  </tbody>\n",
       "</table>\n",
       "</div>"
      ],
      "text/plain": [
       "                           Missing 比例\n",
       "loan_advances               97.260274\n",
       "director_fees               88.356164\n",
       "restricted_stock_deferred   87.671233\n",
       "deferral_payments           73.287671\n",
       "deferred_income             66.438356\n",
       "long_term_incentive         54.794521\n",
       "bonus                       43.835616\n",
       "from_messages               41.095890\n",
       "from_poi_to_this_person     41.095890\n",
       "from_this_person_to_poi     41.095890\n",
       "shared_receipt_with_poi     41.095890\n",
       "to_messages                 41.095890\n",
       "other                       36.301370\n",
       "expenses                    34.931507\n",
       "salary                      34.931507\n",
       "exercised_stock_options     30.136986\n",
       "restricted_stock            24.657534\n",
       "email_address               23.972603\n",
       "total_payments              14.383562\n",
       "total_stock_value           13.698630"
      ]
     },
     "metadata": {},
     "output_type": "display_data"
    }
   ],
   "source": [
    "# 檢查 df 空缺值\n",
    "def na_check(df_data):\n",
    "    data_na = (df_data.isnull().sum() / len(df_data)) * 100\n",
    "    data_na = data_na.drop(data_na[data_na == 0].index).sort_values(ascending=False)\n",
    "    missing_data = pd.DataFrame({'Missing 比例' :data_na})\n",
    "    display(missing_data.head(20))\n",
    "na_check(df)"
   ]
  },
  {
   "cell_type": "markdown",
   "id": "1b35ed8a",
   "metadata": {},
   "source": [
    "### 資料狀況筆記\n",
    "- 除了```name```欄位外, 其餘所有欄位都有缺失值   \n",
    "- 缺失值太多的欄位, 如: ```loan_advances```, ```director_fees```, ```restricted_stock_deferred```,```deferral_payments``` 可考慮移除\n",
    "\n",
    "### B. 樞紐分析與視覺化\n",
    "1. 檢視資料的分布\n",
    "2. 樞紐分析與圖例"
   ]
  },
  {
   "cell_type": "code",
   "execution_count": 9,
   "id": "bc79bd19",
   "metadata": {},
   "outputs": [
    {
     "data": {
      "text/html": [
       "<div>\n",
       "<style scoped>\n",
       "    .dataframe tbody tr th:only-of-type {\n",
       "        vertical-align: middle;\n",
       "    }\n",
       "\n",
       "    .dataframe tbody tr th {\n",
       "        vertical-align: top;\n",
       "    }\n",
       "\n",
       "    .dataframe thead th {\n",
       "        text-align: right;\n",
       "    }\n",
       "</style>\n",
       "<table border=\"1\" class=\"dataframe\">\n",
       "  <thead>\n",
       "    <tr style=\"text-align: right;\">\n",
       "      <th></th>\n",
       "      <th>from_messages</th>\n",
       "      <th>from_poi_to_this_person</th>\n",
       "      <th>from_this_person_to_poi</th>\n",
       "      <th>shared_receipt_with_poi</th>\n",
       "      <th>to_messages</th>\n",
       "    </tr>\n",
       "  </thead>\n",
       "  <tbody>\n",
       "    <tr>\n",
       "      <th>0</th>\n",
       "      <td>18.0</td>\n",
       "      <td>42.0</td>\n",
       "      <td>4.0</td>\n",
       "      <td>864.0</td>\n",
       "      <td>905.0</td>\n",
       "    </tr>\n",
       "    <tr>\n",
       "      <th>1</th>\n",
       "      <td>108.0</td>\n",
       "      <td>88.0</td>\n",
       "      <td>30.0</td>\n",
       "      <td>2042.0</td>\n",
       "      <td>3627.0</td>\n",
       "    </tr>\n",
       "    <tr>\n",
       "      <th>2</th>\n",
       "      <td>39.0</td>\n",
       "      <td>13.0</td>\n",
       "      <td>14.0</td>\n",
       "      <td>91.0</td>\n",
       "      <td>225.0</td>\n",
       "    </tr>\n",
       "    <tr>\n",
       "      <th>3</th>\n",
       "      <td>NaN</td>\n",
       "      <td>NaN</td>\n",
       "      <td>NaN</td>\n",
       "      <td>NaN</td>\n",
       "      <td>NaN</td>\n",
       "    </tr>\n",
       "    <tr>\n",
       "      <th>4</th>\n",
       "      <td>144.0</td>\n",
       "      <td>199.0</td>\n",
       "      <td>25.0</td>\n",
       "      <td>2188.0</td>\n",
       "      <td>2598.0</td>\n",
       "    </tr>\n",
       "  </tbody>\n",
       "</table>\n",
       "</div>"
      ],
      "text/plain": [
       "   from_messages  from_poi_to_this_person  from_this_person_to_poi  \\\n",
       "0           18.0                     42.0                      4.0   \n",
       "1          108.0                     88.0                     30.0   \n",
       "2           39.0                     13.0                     14.0   \n",
       "3            NaN                      NaN                      NaN   \n",
       "4          144.0                    199.0                     25.0   \n",
       "\n",
       "   shared_receipt_with_poi  to_messages  \n",
       "0                    864.0        905.0  \n",
       "1                   2042.0       3627.0  \n",
       "2                     91.0        225.0  \n",
       "3                      NaN          NaN  \n",
       "4                   2188.0       2598.0  "
      ]
     },
     "execution_count": 9,
     "metadata": {},
     "output_type": "execute_result"
    }
   ],
   "source": [
    "# email紀錄\n",
    "email_features = [\"from_messages\", \"from_poi_to_this_person\", \"from_this_person_to_poi\", \"shared_receipt_with_poi\", \"to_messages\"]\n",
    "df[email_features].head()"
   ]
  },
  {
   "cell_type": "code",
   "execution_count": 10,
   "id": "b545479f",
   "metadata": {},
   "outputs": [
    {
     "data": {
      "image/png": "[encoded data removed]",
      "text/plain": [
       "<Figure size 1440x720 with 5 Axes>"
      ]
     },
     "metadata": {},
     "output_type": "display_data"
    }
   ],
   "source": [
    "sns.set(style=\"white\")\n",
    "plt.figure(figsize=(20,10))\n",
    "for i in range(len(email_features)):\n",
    "    plt.subplot(2,3,i+1)\n",
    "    plt.hist(df[email_features[i]])\n",
    "    plt.title(str(email_features[i]))\n",
    "plt.show()"
   ]
  },
  {
   "cell_type": "code",
   "execution_count": 11,
   "id": "450ddf49",
   "metadata": {},
   "outputs": [
    {
     "data": {
      "text/html": [
       "<div>\n",
       "<style scoped>\n",
       "    .dataframe tbody tr th:only-of-type {\n",
       "        vertical-align: middle;\n",
       "    }\n",
       "\n",
       "    .dataframe tbody tr th {\n",
       "        vertical-align: top;\n",
       "    }\n",
       "\n",
       "    .dataframe thead th {\n",
       "        text-align: right;\n",
       "    }\n",
       "</style>\n",
       "<table border=\"1\" class=\"dataframe\">\n",
       "  <thead>\n",
       "    <tr style=\"text-align: right;\">\n",
       "      <th></th>\n",
       "      <th>exercised_stock_options</th>\n",
       "      <th>restricted_stock</th>\n",
       "      <th>restricted_stock_deferred</th>\n",
       "      <th>total_stock_value</th>\n",
       "    </tr>\n",
       "  </thead>\n",
       "  <tbody>\n",
       "    <tr>\n",
       "      <th>0</th>\n",
       "      <td>19794175.0</td>\n",
       "      <td>2748364.0</td>\n",
       "      <td>NaN</td>\n",
       "      <td>22542539.0</td>\n",
       "    </tr>\n",
       "    <tr>\n",
       "      <th>1</th>\n",
       "      <td>19250000.0</td>\n",
       "      <td>6843672.0</td>\n",
       "      <td>NaN</td>\n",
       "      <td>26093672.0</td>\n",
       "    </tr>\n",
       "    <tr>\n",
       "      <th>2</th>\n",
       "      <td>1624396.0</td>\n",
       "      <td>869220.0</td>\n",
       "      <td>NaN</td>\n",
       "      <td>2493616.0</td>\n",
       "    </tr>\n",
       "    <tr>\n",
       "      <th>3</th>\n",
       "      <td>NaN</td>\n",
       "      <td>985032.0</td>\n",
       "      <td>NaN</td>\n",
       "      <td>985032.0</td>\n",
       "    </tr>\n",
       "    <tr>\n",
       "      <th>4</th>\n",
       "      <td>NaN</td>\n",
       "      <td>126027.0</td>\n",
       "      <td>NaN</td>\n",
       "      <td>126027.0</td>\n",
       "    </tr>\n",
       "  </tbody>\n",
       "</table>\n",
       "</div>"
      ],
      "text/plain": [
       "   exercised_stock_options  restricted_stock  restricted_stock_deferred  \\\n",
       "0               19794175.0         2748364.0                        NaN   \n",
       "1               19250000.0         6843672.0                        NaN   \n",
       "2                1624396.0          869220.0                        NaN   \n",
       "3                      NaN          985032.0                        NaN   \n",
       "4                      NaN          126027.0                        NaN   \n",
       "\n",
       "   total_stock_value  \n",
       "0         22542539.0  \n",
       "1         26093672.0  \n",
       "2          2493616.0  \n",
       "3           985032.0  \n",
       "4           126027.0  "
      ]
     },
     "execution_count": 11,
     "metadata": {},
     "output_type": "execute_result"
    }
   ],
   "source": [
    "# stock相關的 特徵\n",
    "stock_features=[\"exercised_stock_options\",\"restricted_stock\",\"restricted_stock_deferred\",\"total_stock_value\"]\n",
    "df[stock_features].head()"
   ]
  },
  {
   "cell_type": "code",
   "execution_count": 12,
   "id": "6a7755cc",
   "metadata": {},
   "outputs": [
    {
     "data": {
      "image/png": "[encoded data removed]",
      "text/plain": [
       "<Figure size 1440x720 with 4 Axes>"
      ]
     },
     "metadata": {},
     "output_type": "display_data"
    }
   ],
   "source": [
    "sns.set(style=\"white\")\n",
    "plt.figure(figsize=(20,10))\n",
    "for i in range(len(stock_features)):\n",
    "    plt.subplot(2,3,i+1)\n",
    "    plt.hist(df[stock_features[i]])\n",
    "    plt.title(str(stock_features[i]))\n",
    "plt.show()"
   ]
  },
  {
   "cell_type": "code",
   "execution_count": 13,
   "id": "d651bb1c",
   "metadata": {},
   "outputs": [
    {
     "data": {
      "text/html": [
       "<div>\n",
       "<style scoped>\n",
       "    .dataframe tbody tr th:only-of-type {\n",
       "        vertical-align: middle;\n",
       "    }\n",
       "\n",
       "    .dataframe tbody tr th {\n",
       "        vertical-align: top;\n",
       "    }\n",
       "\n",
       "    .dataframe thead th {\n",
       "        text-align: right;\n",
       "    }\n",
       "</style>\n",
       "<table border=\"1\" class=\"dataframe\">\n",
       "  <thead>\n",
       "    <tr style=\"text-align: right;\">\n",
       "      <th></th>\n",
       "      <th>bonus</th>\n",
       "      <th>deferral_payments</th>\n",
       "      <th>deferred_income</th>\n",
       "      <th>director_fees</th>\n",
       "      <th>expenses</th>\n",
       "      <th>loan_advances</th>\n",
       "      <th>long_term_incentive</th>\n",
       "      <th>other</th>\n",
       "      <th>salary</th>\n",
       "      <th>total_payments</th>\n",
       "    </tr>\n",
       "  </thead>\n",
       "  <tbody>\n",
       "    <tr>\n",
       "      <th>0</th>\n",
       "      <td>1750000.0</td>\n",
       "      <td>NaN</td>\n",
       "      <td>-3504386.0</td>\n",
       "      <td>NaN</td>\n",
       "      <td>46950.0</td>\n",
       "      <td>NaN</td>\n",
       "      <td>1617011.0</td>\n",
       "      <td>174839.0</td>\n",
       "      <td>420636.0</td>\n",
       "      <td>505050.0</td>\n",
       "    </tr>\n",
       "    <tr>\n",
       "      <th>1</th>\n",
       "      <td>5600000.0</td>\n",
       "      <td>NaN</td>\n",
       "      <td>NaN</td>\n",
       "      <td>NaN</td>\n",
       "      <td>29336.0</td>\n",
       "      <td>NaN</td>\n",
       "      <td>1920000.0</td>\n",
       "      <td>22122.0</td>\n",
       "      <td>1111258.0</td>\n",
       "      <td>8682716.0</td>\n",
       "    </tr>\n",
       "    <tr>\n",
       "      <th>2</th>\n",
       "      <td>200000.0</td>\n",
       "      <td>NaN</td>\n",
       "      <td>-4167.0</td>\n",
       "      <td>NaN</td>\n",
       "      <td>22884.0</td>\n",
       "      <td>NaN</td>\n",
       "      <td>NaN</td>\n",
       "      <td>1573324.0</td>\n",
       "      <td>211844.0</td>\n",
       "      <td>2003885.0</td>\n",
       "    </tr>\n",
       "    <tr>\n",
       "      <th>3</th>\n",
       "      <td>800000.0</td>\n",
       "      <td>NaN</td>\n",
       "      <td>NaN</td>\n",
       "      <td>NaN</td>\n",
       "      <td>118134.0</td>\n",
       "      <td>NaN</td>\n",
       "      <td>602671.0</td>\n",
       "      <td>907502.0</td>\n",
       "      <td>224305.0</td>\n",
       "      <td>2652612.0</td>\n",
       "    </tr>\n",
       "    <tr>\n",
       "      <th>4</th>\n",
       "      <td>1250000.0</td>\n",
       "      <td>NaN</td>\n",
       "      <td>-262500.0</td>\n",
       "      <td>NaN</td>\n",
       "      <td>35818.0</td>\n",
       "      <td>NaN</td>\n",
       "      <td>375304.0</td>\n",
       "      <td>486.0</td>\n",
       "      <td>240189.0</td>\n",
       "      <td>1639297.0</td>\n",
       "    </tr>\n",
       "  </tbody>\n",
       "</table>\n",
       "</div>"
      ],
      "text/plain": [
       "       bonus  deferral_payments  deferred_income  director_fees  expenses  \\\n",
       "0  1750000.0                NaN       -3504386.0            NaN   46950.0   \n",
       "1  5600000.0                NaN              NaN            NaN   29336.0   \n",
       "2   200000.0                NaN          -4167.0            NaN   22884.0   \n",
       "3   800000.0                NaN              NaN            NaN  118134.0   \n",
       "4  1250000.0                NaN        -262500.0            NaN   35818.0   \n",
       "\n",
       "   loan_advances  long_term_incentive      other     salary  total_payments  \n",
       "0            NaN            1617011.0   174839.0   420636.0        505050.0  \n",
       "1            NaN            1920000.0    22122.0  1111258.0       8682716.0  \n",
       "2            NaN                  NaN  1573324.0   211844.0       2003885.0  \n",
       "3            NaN             602671.0   907502.0   224305.0       2652612.0  \n",
       "4            NaN             375304.0      486.0   240189.0       1639297.0  "
      ]
     },
     "execution_count": 13,
     "metadata": {},
     "output_type": "execute_result"
    }
   ],
   "source": [
    "# Payments相關特徵\n",
    "payment_features=[\"bonus\",\"deferral_payments\",\"deferred_income\",\"director_fees\",\"expenses\",\n",
    "                 \"loan_advances\",\"long_term_incentive\",\"other\",\"salary\",\"total_payments\"]\n",
    "df[payment_features].head()"
   ]
  },
  {
   "cell_type": "code",
   "execution_count": 14,
   "id": "2eb9e8fe",
   "metadata": {},
   "outputs": [
    {
     "data": {
      "image/png": "[encoded data removed]",
      "text/plain": [
       "<Figure size 1440x720 with 10 Axes>"
      ]
     },
     "metadata": {},
     "output_type": "display_data"
    }
   ],
   "source": [
    "plt.figure(figsize=(20,10))\n",
    "for i in range(len(payment_features)):\n",
    "    plt.subplot(3,4,i+1)\n",
    "    plt.hist(df[payment_features[i]])\n",
    "    plt.title(str(payment_features[i]))\n",
    "plt.show()"
   ]
  },
  {
   "cell_type": "markdown",
   "id": "a1dc064f",
   "metadata": {},
   "source": [
    "## 可以看到不管是message/stock/payment都有偏態的狀況，需要做\"去除偏態\""
   ]
  },
  {
   "cell_type": "markdown",
   "id": "97b080fd",
   "metadata": {},
   "source": [
    "## Step4 清理資料\n",
    "\n",
    "### A. 檢查資料與確認缺失值\n",
    "1. 是否有遺漏值/缺失值 (Missing value):  \n",
    "* 除了```name```之外，其餘都有缺失值，缺失值太多的欄位，如: ```loan_advances```, ```director_fees```, ```restricted_stock_deferred```,```deferral_payments``` 考慮移除</font>   \n",
    "2. 是否有極值或異常值 (Outlier)  \n",
    "* 從柱狀圖來看, 特徵值都呈偏邊分布, 可以進行\"去除偏態\"處理 (因資料較少,為避免移除不該移除的資料的做法)</font>  \n",
    "3. 資料分布是否符合常態 (Normal Distribution): \n",
    "* 不是，都有偏態\n",
    "4. 資料是否需要清洗 (Clean Data)    \n",
    "* ```email_address```可調整為 有資料:1, 缺失值:0</font>    \n",
    "\n",
    "### B. 進行資料加工\n",
    "1. DataFrame.copy() 先複製出一份新的資料  \n",
    "2. 移除缺失值太多的欄位```loan_advances```, ```director_fees```, ```restricted_stock_deferred```,```deferral_payments```和```name```\n",
    "3. 剩餘缺失值欄位: 以```fillna(0)```填補後, 除了email_address, 其餘使用log去偏態\n",
    "4. ```email_address```有資料補1, 缺失值維持0\n",
    "5. 完成後, 確認缺失值與目前的資料表內容"
   ]
  },
  {
   "cell_type": "code",
   "execution_count": 16,
   "id": "53af6d40",
   "metadata": {},
   "outputs": [
    {
     "data": {
      "text/html": [
       "<div>\n",
       "<style scoped>\n",
       "    .dataframe tbody tr th:only-of-type {\n",
       "        vertical-align: middle;\n",
       "    }\n",
       "\n",
       "    .dataframe tbody tr th {\n",
       "        vertical-align: top;\n",
       "    }\n",
       "\n",
       "    .dataframe thead th {\n",
       "        text-align: right;\n",
       "    }\n",
       "</style>\n",
       "<table border=\"1\" class=\"dataframe\">\n",
       "  <thead>\n",
       "    <tr style=\"text-align: right;\">\n",
       "      <th></th>\n",
       "      <th>Missing 比例</th>\n",
       "    </tr>\n",
       "  </thead>\n",
       "  <tbody>\n",
       "  </tbody>\n",
       "</table>\n",
       "</div>"
      ],
      "text/plain": [
       "Empty DataFrame\n",
       "Columns: [Missing 比例]\n",
       "Index: []"
      ]
     },
     "metadata": {},
     "output_type": "display_data"
    },
    {
     "name": "stdout",
     "output_type": "stream",
     "text": [
      "(146, 16)\n"
     ]
    },
    {
     "data": {
      "text/html": [
       "<div>\n",
       "<style scoped>\n",
       "    .dataframe tbody tr th:only-of-type {\n",
       "        vertical-align: middle;\n",
       "    }\n",
       "\n",
       "    .dataframe tbody tr th {\n",
       "        vertical-align: top;\n",
       "    }\n",
       "\n",
       "    .dataframe thead th {\n",
       "        text-align: right;\n",
       "    }\n",
       "</style>\n",
       "<table border=\"1\" class=\"dataframe\">\n",
       "  <thead>\n",
       "    <tr style=\"text-align: right;\">\n",
       "      <th></th>\n",
       "      <th>bonus</th>\n",
       "      <th>deferred_income</th>\n",
       "      <th>exercised_stock_options</th>\n",
       "      <th>expenses</th>\n",
       "      <th>from_messages</th>\n",
       "      <th>from_poi_to_this_person</th>\n",
       "      <th>from_this_person_to_poi</th>\n",
       "      <th>long_term_incentive</th>\n",
       "      <th>other</th>\n",
       "      <th>restricted_stock</th>\n",
       "      <th>salary</th>\n",
       "      <th>shared_receipt_with_poi</th>\n",
       "      <th>to_messages</th>\n",
       "      <th>total_payments</th>\n",
       "      <th>total_stock_value</th>\n",
       "      <th>email_address</th>\n",
       "    </tr>\n",
       "  </thead>\n",
       "  <tbody>\n",
       "    <tr>\n",
       "      <th>0</th>\n",
       "      <td>14.375126</td>\n",
       "      <td>0</td>\n",
       "      <td>16.800898</td>\n",
       "      <td>10.756838</td>\n",
       "      <td>2.890372</td>\n",
       "      <td>3.737670</td>\n",
       "      <td>1.386294</td>\n",
       "      <td>14.296090</td>\n",
       "      <td>12.071621</td>\n",
       "      <td>14.826516</td>\n",
       "      <td>12.949523</td>\n",
       "      <td>6.761573</td>\n",
       "      <td>6.807935</td>\n",
       "      <td>13.132413</td>\n",
       "      <td>16.930915</td>\n",
       "      <td>1</td>\n",
       "    </tr>\n",
       "    <tr>\n",
       "      <th>1</th>\n",
       "      <td>15.538277</td>\n",
       "      <td>0</td>\n",
       "      <td>16.773022</td>\n",
       "      <td>10.286571</td>\n",
       "      <td>4.682131</td>\n",
       "      <td>4.477337</td>\n",
       "      <td>3.401197</td>\n",
       "      <td>14.467836</td>\n",
       "      <td>10.004328</td>\n",
       "      <td>15.738835</td>\n",
       "      <td>13.921003</td>\n",
       "      <td>7.621685</td>\n",
       "      <td>8.196161</td>\n",
       "      <td>15.976845</td>\n",
       "      <td>17.077203</td>\n",
       "      <td>1</td>\n",
       "    </tr>\n",
       "    <tr>\n",
       "      <th>2</th>\n",
       "      <td>12.206073</td>\n",
       "      <td>0</td>\n",
       "      <td>14.300647</td>\n",
       "      <td>10.038193</td>\n",
       "      <td>3.663562</td>\n",
       "      <td>2.564949</td>\n",
       "      <td>2.639057</td>\n",
       "      <td>0.000000</td>\n",
       "      <td>14.268701</td>\n",
       "      <td>13.675352</td>\n",
       "      <td>12.263605</td>\n",
       "      <td>4.510860</td>\n",
       "      <td>5.416100</td>\n",
       "      <td>14.510598</td>\n",
       "      <td>14.729244</td>\n",
       "      <td>1</td>\n",
       "    </tr>\n",
       "    <tr>\n",
       "      <th>3</th>\n",
       "      <td>13.592367</td>\n",
       "      <td>0</td>\n",
       "      <td>0.000000</td>\n",
       "      <td>11.679575</td>\n",
       "      <td>0.000000</td>\n",
       "      <td>0.000000</td>\n",
       "      <td>0.000000</td>\n",
       "      <td>13.309127</td>\n",
       "      <td>13.718451</td>\n",
       "      <td>13.800429</td>\n",
       "      <td>12.320762</td>\n",
       "      <td>0.000000</td>\n",
       "      <td>0.000000</td>\n",
       "      <td>14.791055</td>\n",
       "      <td>13.800429</td>\n",
       "      <td>1</td>\n",
       "    </tr>\n",
       "    <tr>\n",
       "      <th>4</th>\n",
       "      <td>14.038654</td>\n",
       "      <td>0</td>\n",
       "      <td>0.000000</td>\n",
       "      <td>10.486206</td>\n",
       "      <td>4.969813</td>\n",
       "      <td>5.293305</td>\n",
       "      <td>3.218876</td>\n",
       "      <td>12.835492</td>\n",
       "      <td>6.186209</td>\n",
       "      <td>11.744251</td>\n",
       "      <td>12.389181</td>\n",
       "      <td>7.690743</td>\n",
       "      <td>7.862497</td>\n",
       "      <td>14.309778</td>\n",
       "      <td>11.744251</td>\n",
       "      <td>1</td>\n",
       "    </tr>\n",
       "  </tbody>\n",
       "</table>\n",
       "</div>"
      ],
      "text/plain": [
       "       bonus  deferred_income  exercised_stock_options   expenses  \\\n",
       "0  14.375126                0                16.800898  10.756838   \n",
       "1  15.538277                0                16.773022  10.286571   \n",
       "2  12.206073                0                14.300647  10.038193   \n",
       "3  13.592367                0                 0.000000  11.679575   \n",
       "4  14.038654                0                 0.000000  10.486206   \n",
       "\n",
       "   from_messages  from_poi_to_this_person  from_this_person_to_poi  \\\n",
       "0       2.890372                 3.737670                 1.386294   \n",
       "1       4.682131                 4.477337                 3.401197   \n",
       "2       3.663562                 2.564949                 2.639057   \n",
       "3       0.000000                 0.000000                 0.000000   \n",
       "4       4.969813                 5.293305                 3.218876   \n",
       "\n",
       "   long_term_incentive      other  restricted_stock     salary  \\\n",
       "0            14.296090  12.071621         14.826516  12.949523   \n",
       "1            14.467836  10.004328         15.738835  13.921003   \n",
       "2             0.000000  14.268701         13.675352  12.263605   \n",
       "3            13.309127  13.718451         13.800429  12.320762   \n",
       "4            12.835492   6.186209         11.744251  12.389181   \n",
       "\n",
       "   shared_receipt_with_poi  to_messages  total_payments  total_stock_value  \\\n",
       "0                 6.761573     6.807935       13.132413          16.930915   \n",
       "1                 7.621685     8.196161       15.976845          17.077203   \n",
       "2                 4.510860     5.416100       14.510598          14.729244   \n",
       "3                 0.000000     0.000000       14.791055          13.800429   \n",
       "4                 7.690743     7.862497       14.309778          11.744251   \n",
       "\n",
       "   email_address  \n",
       "0              1  \n",
       "1              1  \n",
       "2              1  \n",
       "3              1  \n",
       "4              1  "
      ]
     },
     "execution_count": 16,
     "metadata": {},
     "output_type": "execute_result"
    }
   ],
   "source": [
    "#1. 複製出一份新的資料\n",
    "df_copy = df.copy()\n",
    "\n",
    "#2. 移除缺失值太多的欄位\n",
    "df_copy = df_copy.drop([\"loan_advances\", \"director_fees\", \"restricted_stock_deferred\", \"deferral_payments\", \"name\"],axis=1)\n",
    "\n",
    "#3. 剩餘缺失值欄位: 以fillna(0)填補，其餘使用log去偏態\n",
    "df_copy = df_copy.fillna(0)\n",
    "df_email = df_copy[\"email_address\"]\n",
    "df_copy = df_copy.drop([\"email_address\"], axis=1)\n",
    "\n",
    "for i in list(df_copy.columns):\n",
    "    df_copy[i] = df_copy[i].map(lambda i: np.log(i) if i > 0 else 0)\n",
    "\n",
    "#4. 有資料補1，缺失值維持0\n",
    "df_email = df_email.apply(lambda x:1 if x!=0 else 0)\n",
    "df_copy[\"email_address\"] = df_email\n",
    "\n",
    "#5. 確認缺失值與目前的資料表內容\n",
    "na_check(df_copy)\n",
    "print(df_copy.shape)\n",
    "df_copy.head()"
   ]
  },
  {
   "cell_type": "markdown",
   "id": "9121e458",
   "metadata": {},
   "source": [
    "## Step5 模型建置與預測 \n",
    "\n",
    "### A. 特徵預處理 (Preprocessing)\n",
    "<font color=#008000>使用```標準化```平衡特徵 (標準化轉換較不易受到極端值影響, 若已經使用log去偏態還需使用? 對非樹狀模型才有影響)</font>"
   ]
  },
  {
   "cell_type": "code",
   "execution_count": 18,
   "id": "0900e80d",
   "metadata": {},
   "outputs": [],
   "source": [
    "from sklearn.preprocessing import StandardScaler\n",
    "df_copy = StandardScaler().fit_transform(df_copy)"
   ]
  },
  {
   "cell_type": "markdown",
   "id": "094b2eb2",
   "metadata": {},
   "source": [
    "### B. 準備訓練／測試集 (Train / Test Split)"
   ]
  },
  {
   "cell_type": "code",
   "execution_count": 19,
   "id": "d8171ceb",
   "metadata": {},
   "outputs": [],
   "source": [
    "# 將df_work , 重新切成 train_X, test_X\n",
    "train_num = train_Y.shape[0]\n",
    "train_X = df_copy[:train_num]\n",
    "test_X = df_copy[train_num:]\n",
    "\n",
    "# 區分訓練集與測試集\n",
    "from sklearn.model_selection import train_test_split\n",
    "X_train, X_test, y_train, y_test = train_test_split(train_X, train_Y, test_size=0.3, random_state=10)"
   ]
  },
  {
   "cell_type": "markdown",
   "id": "5f61b31b",
   "metadata": {},
   "source": [
    "### C. 訓練與評估模型 (Model Training)\n",
    "固定random_state=10做預測\n",
    "1. Logistic Regression\n",
    "2. Decision Tree\n",
    "3. Random Forest\n",
    "4. Gradient Boosting"
   ]
  },
  {
   "cell_type": "code",
   "execution_count": 20,
   "id": "7dee5ba5",
   "metadata": {},
   "outputs": [],
   "source": [
    "from sklearn.linear_model import LogisticRegression\n",
    "from sklearn.tree import DecisionTreeClassifier\n",
    "from sklearn.ensemble import GradientBoostingClassifier, RandomForestClassifier\n",
    "from sklearn.model_selection import RandomizedSearchCV, GridSearchCV\n",
    "from sklearn.metrics import accuracy_score, roc_auc_score"
   ]
  },
  {
   "cell_type": "markdown",
   "id": "edb14655",
   "metadata": {},
   "source": [
    "# 1. Logistic Regression"
   ]
  },
  {
   "cell_type": "code",
   "execution_count": 21,
   "id": "2f932b52",
   "metadata": {},
   "outputs": [
    {
     "name": "stdout",
     "output_type": "stream",
     "text": [
      "Logistic Regression Accuracy: 0.8823529411764706\n"
     ]
    }
   ],
   "source": [
    "lr = LogisticRegression(random_state=10)\n",
    "lr.fit(X_train, y_train)\n",
    "y_pred = lr.predict(X_test)\n",
    "print(\"Logistic Regression Accuracy:\",accuracy_score(y_test, y_pred))"
   ]
  },
  {
   "cell_type": "markdown",
   "id": "f32e6bc1",
   "metadata": {},
   "source": [
    "# 2. Decision Tree"
   ]
  },
  {
   "cell_type": "code",
   "execution_count": 32,
   "id": "d41ab84d",
   "metadata": {},
   "outputs": [
    {
     "name": "stdout",
     "output_type": "stream",
     "text": [
      "Decision Tree(未調整參數) Accuracy: 0.8823529411764706\n"
     ]
    }
   ],
   "source": [
    "dt = DecisionTreeClassifier(random_state=10)\n",
    "dt.fit(X_train, y_train)\n",
    "y_pred = dt.predict(X_test)\n",
    "print(\"Decision Tree(未調整參數) Accuracy:\", accuracy_score(y_test, y_pred))"
   ]
  },
  {
   "cell_type": "code",
   "execution_count": 28,
   "id": "de7bdacd",
   "metadata": {},
   "outputs": [
    {
     "name": "stdout",
     "output_type": "stream",
     "text": [
      "Best Accuracy: 0.9116666666666667 {'min_samples_split': 10, 'min_samples_leaf': 5, 'max_depth': 4}\n"
     ]
    }
   ],
   "source": [
    "# 調整參數\n",
    "max_depths = list(range(1,21))\n",
    "min_samples_splits = list(range(1,21))\n",
    "min_samples_leaves = list(range(1,21))\n",
    "param_grid = {\"max_depth\":max_depths,\"min_samples_split\":min_samples_splits, \"min_samples_leaf\":min_samples_leaves}\n",
    "\n",
    "dt_rscv = RandomizedSearchCV(dt, param_grid, scoring=\"accuracy\", random_state=10, n_jobs=-1)\n",
    "search_result = dt_rscv.fit(X_train, y_train)\n",
    "print(\"Best Accuracy:\" ,search_result.best_score_, search_result.best_params_)"
   ]
  },
  {
   "cell_type": "code",
   "execution_count": 33,
   "id": "4511fd98",
   "metadata": {},
   "outputs": [
    {
     "name": "stdout",
     "output_type": "stream",
     "text": [
      "Decision Tree(已調整參數) Accuracy: 0.9117647058823529\n"
     ]
    }
   ],
   "source": [
    "dt_bestparam = dt_rscv.best_estimator_\n",
    "dt_bestparam.fit(X_train, y_train)\n",
    "y_pred = dt_bestparam.predict(X_test)\n",
    "print(\"Decision Tree(已調整參數) Accuracy:\", accuracy_score(y_test, y_pred))"
   ]
  },
  {
   "cell_type": "code",
   "execution_count": 30,
   "id": "3f16bfba",
   "metadata": {},
   "outputs": [],
   "source": [
    "dt_pred = dt_bestparam.predict_proba(test_X)[:,1]\n",
    "sub = pd.DataFrame({\"name\": df_test[\"name\"], \"poi\": dt_pred})\n",
    "sub.to_csv(\"poi_decision_tree.csv\", index=False)"
   ]
  },
  {
   "cell_type": "markdown",
   "id": "cb3d8435",
   "metadata": {},
   "source": [
    "# 3. Random Forest"
   ]
  },
  {
   "cell_type": "code",
   "execution_count": 34,
   "id": "8c90004a",
   "metadata": {},
   "outputs": [
    {
     "name": "stdout",
     "output_type": "stream",
     "text": [
      "Random Forest(未調整參數) Accuracy: 0.9117647058823529\n"
     ]
    }
   ],
   "source": [
    "#3. Random Forest\n",
    "rf = RandomForestClassifier(random_state=10)\n",
    "rf.fit(X_train, y_train)\n",
    "y_pred = rf.predict(X_test)\n",
    "print(\"Random Forest(未調整參數) Accuracy:\", accuracy_score(y_test, y_pred))"
   ]
  },
  {
   "cell_type": "code",
   "execution_count": 35,
   "id": "e655f015",
   "metadata": {},
   "outputs": [
    {
     "name": "stdout",
     "output_type": "stream",
     "text": [
      "Best Accuracy: 0.8866666666666667 {'n_estimators': 80, 'min_samples_split': 17, 'min_samples_leaf': 17, 'max_depth': 12}\n"
     ]
    }
   ],
   "source": [
    "# 調整參數\n",
    "n_estimators = list(range(5,105,5))\n",
    "max_depths = list(range(1,21))\n",
    "min_samples_splits = list(range(1,21))\n",
    "min_samples_leaves = list(range(1,21))\n",
    "param_grid = {\"n_estimators\":n_estimators,\"max_depth\":max_depths,\n",
    "              \"min_samples_split\":min_samples_splits,\"min_samples_leaf\":min_samples_leaves}\n",
    "\n",
    "rf_rscv = RandomizedSearchCV(rf, param_grid, scoring=\"accuracy\", random_state=10, n_jobs=-1)\n",
    "search_result = rf_rscv.fit(X_train, y_train)\n",
    "print(\"Best Accuracy:\", search_result.best_score_, search_result.best_params_)"
   ]
  },
  {
   "cell_type": "code",
   "execution_count": 36,
   "id": "f5df5267",
   "metadata": {},
   "outputs": [
    {
     "name": "stdout",
     "output_type": "stream",
     "text": [
      "Random Forest(已調整參數) Accuracy: 0.8823529411764706\n"
     ]
    }
   ],
   "source": [
    "rf_bestparam = rf_rscv.best_estimator_\n",
    "rf_bestparam.fit(X_train, y_train)\n",
    "y_pred = rf_bestparam.predict(X_test)\n",
    "print(\"Random Forest(已調整參數) Accuracy:\", accuracy_score(y_test, y_pred))"
   ]
  },
  {
   "cell_type": "code",
   "execution_count": 37,
   "id": "f232ee17",
   "metadata": {},
   "outputs": [],
   "source": [
    "rf_pred = rf_bestparam.predict_proba(test_X)[:,1]\n",
    "sub = pd.DataFrame({\"name\": df_test[\"name\"], \"poi\": rf_pred})\n",
    "sub.to_csv(\"poi_random_forest.csv\", index=False)"
   ]
  },
  {
   "cell_type": "markdown",
   "id": "a1619bf2",
   "metadata": {},
   "source": [
    "# 4. Gradient Boosting"
   ]
  },
  {
   "cell_type": "code",
   "execution_count": 38,
   "id": "02a7b7cc",
   "metadata": {},
   "outputs": [
    {
     "name": "stdout",
     "output_type": "stream",
     "text": [
      "Gradient Boosting(未調整參數) Accuracy: 0.8529411764705882\n"
     ]
    }
   ],
   "source": [
    "gb = GradientBoostingClassifier(random_state=10)\n",
    "gb.fit(X_train, y_train)\n",
    "y_pred = gb.predict(X_test)\n",
    "print(\"Gradient Boosting(未調整參數) Accuracy:\", accuracy_score(y_test, y_pred))"
   ]
  },
  {
   "cell_type": "code",
   "execution_count": 43,
   "id": "bdfa51b1",
   "metadata": {},
   "outputs": [
    {
     "name": "stdout",
     "output_type": "stream",
     "text": [
      "Best Accuracy: 0.8991666666666667 {'n_estimators': 65, 'min_samples_split': 9, 'min_samples_leaf': 4, 'max_depth': 2}\n"
     ]
    }
   ],
   "source": [
    "# 調整參數\n",
    "n_estimators = list(range(5,105,5))\n",
    "max_depths = list(range(1,21))\n",
    "min_samples_splits = list(range(1,21))\n",
    "min_samples_leaves = list(range(1,21))\n",
    "param_grid = {\"n_estimators\":n_estimators,\"max_depth\":max_depths,\n",
    "              \"min_samples_split\":min_samples_splits,\"min_samples_leaf\":min_samples_leaves}\n",
    "\n",
    "gb_rscv = RandomizedSearchCV(gb, param_grid, scoring=\"accuracy\", random_state=10, n_jobs=-1)\n",
    "search_result = gb_rscv.fit(X_train, y_train)\n",
    "print(\"Best Accuracy:\", search_result.best_score_, search_result.best_params_)"
   ]
  },
  {
   "cell_type": "code",
   "execution_count": 44,
   "id": "c7b33e20",
   "metadata": {},
   "outputs": [
    {
     "name": "stdout",
     "output_type": "stream",
     "text": [
      "Gradient Boosting(已調整參數) Accuracy: 0.8823529411764706\n"
     ]
    }
   ],
   "source": [
    "gb_bestparam = gb_rscv.best_estimator_\n",
    "gb_bestparam.fit(X_train, y_train)\n",
    "y_pred = gb_bestparam.predict(X_test)\n",
    "print(\"Gradient Boosting(已調整參數) Accuracy:\", accuracy_score(y_test, y_pred))"
   ]
  },
  {
   "cell_type": "code",
   "execution_count": 45,
   "id": "888de3a8",
   "metadata": {},
   "outputs": [],
   "source": [
    "gb_pred = gb_bestparam.predict_proba(test_X)[:,1]\n",
    "sub = pd.DataFrame({\"name\": df_test[\"name\"], \"poi\": gb_pred})\n",
    "sub.to_csv(\"poi_gradient_boosting.csv\", index=False)"
   ]
  },
  {
   "cell_type": "markdown",
   "id": "5f1bfa26",
   "metadata": {},
   "source": [
    "# Blending"
   ]
  },
  {
   "cell_type": "code",
   "execution_count": 49,
   "id": "719e9652",
   "metadata": {},
   "outputs": [],
   "source": [
    "blending_pred = dt_pred*0.3 + rf_pred*0.4 + gb_pred*0.3\n",
    "sub = pd.DataFrame({\"name\": df_test[\"name\"], \"poi\": blending_pred})\n",
    "sub.to_csv(\"poi_blending.csv\", index=False)"
   ]
  },
  {
   "cell_type": "markdown",
   "id": "33e47d6b",
   "metadata": {},
   "source": [
    "# Stacking"
   ]
  },
  {
   "cell_type": "code",
   "execution_count": 50,
   "id": "4ac709e5",
   "metadata": {},
   "outputs": [],
   "source": [
    "from mlxtend.classifier import StackingClassifier\n",
    "meta_estimator = rf_bestparam\n",
    "stacking = StackingClassifier(classifiers=[dt_bestparam, rf_bestparam, gb_bestparam], meta_classifier=meta_estimator, \n",
    "                              use_probas=True, average_probas=False)\n",
    "stacking.fit(train_X, train_Y)\n",
    "stacking_pred = stacking.predict_proba(test_X)[:,1]\n",
    "sub = pd.DataFrame({\"name\": df_test[\"name\"], \"poi\": stacking_pred})\n",
    "sub.to_csv(\"poi_stacking.csv\", index=False)"
   ]
  },
  {
   "cell_type": "markdown",
   "id": "93a602a7",
   "metadata": {},
   "source": [
    "<img src = \"./midterm.jpg\">"
   ]
  },
  {
   "cell_type": "code",
   "execution_count": null,
   "id": "59999a36",
   "metadata": {},
   "outputs": [],
   "source": []
  }
 ],
 "metadata": {
  "kernelspec": {
   "display_name": "Python 3",
   "language": "python",
   "name": "python3"
  },
  "language_info": {
   "codemirror_mode": {
    "name": "ipython",
    "version": 3
   },
   "file_extension": ".py",
   "mimetype": "text/x-python",
   "name": "python",
   "nbconvert_exporter": "python",
   "pygments_lexer": "ipython3",
   "version": "3.8.11"
  }
 },
 "nbformat": 4,
 "nbformat_minor": 5
}
