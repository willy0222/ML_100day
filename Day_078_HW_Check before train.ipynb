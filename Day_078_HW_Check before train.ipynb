{
 "cells": [
  {
   "cell_type": "markdown",
   "metadata": {
    "id": "auEAuEgT4oXE"
   },
   "source": [
    "## Work\n",
    "1. 請嘗試將 preproc_x 替換成以每筆資料的 min/max 進行標準化至 -1 ~ 1 間，再進行訓練\n",
    "2. 請嘗試將 mlp 疊更深 (e.g 5~10 層)，進行訓練後觀察 learning curve 的走勢\n",
    "3. (optional) 請改用 GPU 進行訓練 (可善用 google colab)，比較使用 CPU 與 GPU 的訓練速度"
   ]
  },
  {
   "cell_type": "code",
   "execution_count": 1,
   "metadata": {
    "id": "L0HSsOA-4oXE"
   },
   "outputs": [],
   "source": [
    "## 確認硬體資源\n",
    "# !nvidia-smi"
   ]
  },
  {
   "cell_type": "code",
   "execution_count": 2,
   "metadata": {
    "id": "wujF_rVq4oXF",
    "outputId": "eb23eca8-6055-4eb3-8931-b2e7da7fa596"
   },
   "outputs": [],
   "source": [
    "import os\n",
    "import keras\n",
    "import tensorflow as tf\n",
    "from tensorflow.keras.datasets import cifar10\n",
    "\n",
    "train, test = cifar10.load_data()"
   ]
  },
  {
   "cell_type": "code",
   "execution_count": 3,
   "metadata": {
    "id": "cv2Wknx_4oXF"
   },
   "outputs": [],
   "source": [
    "from tensorflow.keras.utils import to_categorical\n",
    "\n",
    "## 資料前處理\n",
    "def preproc_x(x, flatten=True):\n",
    "    x = 2 * (x / 255.0) - 1  # 將資料標準化至 -1 到 1 之間\n",
    "    if flatten:\n",
    "        x = x.reshape((len(x), -1))\n",
    "    return x\n",
    "\n",
    "def preproc_y(y, num_classes=10):\n",
    "    if y.shape[-1] == 1:\n",
    "        y = to_categorical(y, num_classes)\n",
    "    return y   "
   ]
  },
  {
   "cell_type": "code",
   "execution_count": 4,
   "metadata": {
    "id": "zp2WdT4d4oXF"
   },
   "outputs": [],
   "source": [
    "x_train, y_train = train\n",
    "x_test, y_test = test\n",
    "\n",
    "# Preproc the inputs\n",
    "x_train = preproc_x(x_train)\n",
    "x_test = preproc_x(x_test)\n",
    "\n",
    "# Preprc the outputs\n",
    "y_train = preproc_y(y_train)\n",
    "y_test = preproc_y(y_test)"
   ]
  },
  {
   "cell_type": "code",
   "execution_count": 5,
   "metadata": {
    "id": "KBj2NiDK4oXF"
   },
   "outputs": [
    {
     "name": "stdout",
     "output_type": "stream",
     "text": [
      "Model: \"model\"\n",
      "_________________________________________________________________\n",
      "Layer (type)                 Output Shape              Param #   \n",
      "=================================================================\n",
      "input_1 (InputLayer)         [(None, 3072)]            0         \n",
      "_________________________________________________________________\n",
      "hidden_layer1 (Dense)        (None, 512)               1573376   \n",
      "_________________________________________________________________\n",
      "hidden_layer2 (Dense)        (None, 256)               131328    \n",
      "_________________________________________________________________\n",
      "hidden_layer3 (Dense)        (None, 128)               32896     \n",
      "_________________________________________________________________\n",
      "hidden_layer4 (Dense)        (None, 64)                8256      \n",
      "_________________________________________________________________\n",
      "hidden_layer5 (Dense)        (None, 32)                2080      \n",
      "_________________________________________________________________\n",
      "hidden_layer6 (Dense)        (None, 16)                528       \n",
      "_________________________________________________________________\n",
      "hidden_layer7 (Dense)        (None, 8)                 136       \n",
      "_________________________________________________________________\n",
      "output (Dense)               (None, 10)                90        \n",
      "=================================================================\n",
      "Total params: 1,748,690\n",
      "Trainable params: 1,748,690\n",
      "Non-trainable params: 0\n",
      "_________________________________________________________________\n"
     ]
    }
   ],
   "source": [
    "from keras.models import Sequential, Model\n",
    "from keras.layers import Dense, Dropout, Activation, Flatten, Input\n",
    "from keras.layers import Conv2D, MaxPooling2D\n",
    "from keras import optimizers\n",
    "\n",
    "def build_mlp(input_shape, output_units=10, num_neurons=[512, 256, 128, 64, 32, 16, 8]):\n",
    "    input_layer = Input(input_shape)\n",
    "    \n",
    "    for i, n_units in enumerate(num_neurons):\n",
    "        if i == 0:\n",
    "            x = Dense(units=n_units, activation=\"relu\", name=\"hidden_layer\"+str(i+1))(input_layer)\n",
    "        else:\n",
    "            x = Dense(units=n_units, activation=\"relu\", name=\"hidden_layer\"+str(i+1))(x)\n",
    "    \n",
    "    out = Dense(units=output_units, activation=\"softmax\", name=\"output\")(x)\n",
    "    \n",
    "    model = Model(inputs=[input_layer], outputs=[out])\n",
    "    return model\n",
    "\n",
    "model = build_mlp(input_shape=x_train.shape[1:])\n",
    "model.summary()"
   ]
  },
  {
   "cell_type": "code",
   "execution_count": 6,
   "metadata": {
    "id": "uejU37q-4oXF"
   },
   "outputs": [],
   "source": [
    "## 超參數設定\n",
    "LEARNING_RATE = 0.001\n",
    "EPOCHS = 100\n",
    "BATCH_SIZE = 256"
   ]
  },
  {
   "cell_type": "code",
   "execution_count": 7,
   "metadata": {
    "id": "FePHihT34oXG"
   },
   "outputs": [
    {
     "name": "stderr",
     "output_type": "stream",
     "text": [
      "C:\\Users\\user.DESKTOP-2LT8F45\\anaconda3\\envs\\tensorflow_cpu\\lib\\site-packages\\keras\\optimizer_v2\\optimizer_v2.py:356: UserWarning: The `lr` argument is deprecated, use `learning_rate` instead.\n",
      "  \"The `lr` argument is deprecated, use `learning_rate` instead.\")\n"
     ]
    }
   ],
   "source": [
    "from tensorflow.keras.optimizers import Adam\n",
    "optimizer = Adam(lr=LEARNING_RATE)\n",
    "model.compile(loss=\"categorical_crossentropy\", metrics=[\"accuracy\"], optimizer=optimizer)"
   ]
  },
  {
   "cell_type": "code",
   "execution_count": 8,
   "metadata": {
    "id": "LmLgZXCQ4oXG",
    "outputId": "cb609889-f8fe-47e8-b64c-27db5202b5e5"
   },
   "outputs": [
    {
     "name": "stdout",
     "output_type": "stream",
     "text": [
      "Epoch 1/100\n",
      "196/196 [==============================] - 3s 13ms/step - loss: 1.9385 - accuracy: 0.3035 - val_loss: 1.7532 - val_accuracy: 0.3831\n",
      "Epoch 2/100\n",
      "196/196 [==============================] - 2s 12ms/step - loss: 1.6671 - accuracy: 0.4113 - val_loss: 1.6136 - val_accuracy: 0.4339\n",
      "Epoch 3/100\n",
      "196/196 [==============================] - 2s 13ms/step - loss: 1.5418 - accuracy: 0.4563 - val_loss: 1.5463 - val_accuracy: 0.4599\n",
      "Epoch 4/100\n",
      "196/196 [==============================] - 2s 12ms/step - loss: 1.4448 - accuracy: 0.4932 - val_loss: 1.5010 - val_accuracy: 0.4768\n",
      "Epoch 5/100\n",
      "196/196 [==============================] - 2s 11ms/step - loss: 1.3544 - accuracy: 0.5244 - val_loss: 1.4503 - val_accuracy: 0.5019\n",
      "Epoch 6/100\n",
      "196/196 [==============================] - 2s 11ms/step - loss: 1.2675 - accuracy: 0.5534 - val_loss: 1.4229 - val_accuracy: 0.5077\n",
      "Epoch 7/100\n",
      "196/196 [==============================] - 2s 12ms/step - loss: 1.1916 - accuracy: 0.5799 - val_loss: 1.4238 - val_accuracy: 0.5074\n",
      "Epoch 8/100\n",
      "196/196 [==============================] - 2s 12ms/step - loss: 1.1140 - accuracy: 0.6059 - val_loss: 1.4534 - val_accuracy: 0.5178\n",
      "Epoch 9/100\n",
      "196/196 [==============================] - 2s 13ms/step - loss: 1.0547 - accuracy: 0.6283 - val_loss: 1.4230 - val_accuracy: 0.5269\n",
      "Epoch 10/100\n",
      "196/196 [==============================] - 2s 12ms/step - loss: 0.9917 - accuracy: 0.6488 - val_loss: 1.4605 - val_accuracy: 0.5329\n",
      "Epoch 11/100\n",
      "196/196 [==============================] - 2s 11ms/step - loss: 0.9195 - accuracy: 0.6734 - val_loss: 1.4983 - val_accuracy: 0.5217\n",
      "Epoch 12/100\n",
      "196/196 [==============================] - 2s 11ms/step - loss: 0.8646 - accuracy: 0.6938 - val_loss: 1.5136 - val_accuracy: 0.5270\n",
      "Epoch 13/100\n",
      "196/196 [==============================] - 2s 12ms/step - loss: 0.7992 - accuracy: 0.7158 - val_loss: 1.5471 - val_accuracy: 0.5300\n",
      "Epoch 14/100\n",
      "196/196 [==============================] - 2s 12ms/step - loss: 0.7490 - accuracy: 0.7323 - val_loss: 1.6063 - val_accuracy: 0.5267\n",
      "Epoch 15/100\n",
      "196/196 [==============================] - 2s 12ms/step - loss: 0.6948 - accuracy: 0.7525 - val_loss: 1.6987 - val_accuracy: 0.5273\n",
      "Epoch 16/100\n",
      "196/196 [==============================] - 3s 13ms/step - loss: 0.6488 - accuracy: 0.7688 - val_loss: 1.7623 - val_accuracy: 0.5278\n",
      "Epoch 17/100\n",
      "196/196 [==============================] - 3s 14ms/step - loss: 0.5983 - accuracy: 0.7849 - val_loss: 1.8741 - val_accuracy: 0.5223\n",
      "Epoch 18/100\n",
      "196/196 [==============================] - 3s 13ms/step - loss: 0.5585 - accuracy: 0.8011 - val_loss: 1.9003 - val_accuracy: 0.5250\n",
      "Epoch 19/100\n",
      "196/196 [==============================] - 2s 11ms/step - loss: 0.5225 - accuracy: 0.8130 - val_loss: 1.9705 - val_accuracy: 0.5230\n",
      "Epoch 20/100\n",
      "196/196 [==============================] - 2s 11ms/step - loss: 0.4898 - accuracy: 0.8247 - val_loss: 1.9628 - val_accuracy: 0.5237\n",
      "Epoch 21/100\n",
      "196/196 [==============================] - 2s 11ms/step - loss: 0.4464 - accuracy: 0.8405 - val_loss: 2.1797 - val_accuracy: 0.5219\n",
      "Epoch 22/100\n",
      "196/196 [==============================] - 2s 11ms/step - loss: 0.4292 - accuracy: 0.8475 - val_loss: 2.2040 - val_accuracy: 0.5232\n",
      "Epoch 23/100\n",
      "196/196 [==============================] - 2s 11ms/step - loss: 0.3963 - accuracy: 0.8602 - val_loss: 2.3913 - val_accuracy: 0.5213\n",
      "Epoch 24/100\n",
      "196/196 [==============================] - 2s 11ms/step - loss: 0.3677 - accuracy: 0.8695 - val_loss: 2.4180 - val_accuracy: 0.5248\n",
      "Epoch 25/100\n",
      "196/196 [==============================] - 2s 11ms/step - loss: 0.3476 - accuracy: 0.8778 - val_loss: 2.5416 - val_accuracy: 0.5172\n",
      "Epoch 26/100\n",
      "196/196 [==============================] - 2s 11ms/step - loss: 0.3221 - accuracy: 0.8875 - val_loss: 2.5318 - val_accuracy: 0.5140\n",
      "Epoch 27/100\n",
      "196/196 [==============================] - 2s 11ms/step - loss: 0.3073 - accuracy: 0.8935 - val_loss: 2.6726 - val_accuracy: 0.5217\n",
      "Epoch 28/100\n",
      "196/196 [==============================] - 2s 11ms/step - loss: 0.2956 - accuracy: 0.8956 - val_loss: 2.6700 - val_accuracy: 0.5172\n",
      "Epoch 29/100\n",
      "196/196 [==============================] - 2s 11ms/step - loss: 0.2893 - accuracy: 0.8994 - val_loss: 2.7620 - val_accuracy: 0.5211\n",
      "Epoch 30/100\n",
      "196/196 [==============================] - 2s 13ms/step - loss: 0.2560 - accuracy: 0.9093 - val_loss: 3.0066 - val_accuracy: 0.5222\n",
      "Epoch 31/100\n",
      "196/196 [==============================] - 3s 14ms/step - loss: 0.2534 - accuracy: 0.9129 - val_loss: 3.0486 - val_accuracy: 0.5244\n",
      "Epoch 32/100\n",
      "196/196 [==============================] - 2s 12ms/step - loss: 0.2378 - accuracy: 0.9175 - val_loss: 3.0541 - val_accuracy: 0.5253\n",
      "Epoch 33/100\n",
      "196/196 [==============================] - 2s 11ms/step - loss: 0.2349 - accuracy: 0.9170 - val_loss: 3.2416 - val_accuracy: 0.5213\n",
      "Epoch 34/100\n",
      "196/196 [==============================] - 2s 11ms/step - loss: 0.2209 - accuracy: 0.9239 - val_loss: 3.1571 - val_accuracy: 0.5194\n",
      "Epoch 35/100\n",
      "196/196 [==============================] - 2s 11ms/step - loss: 0.2048 - accuracy: 0.9286 - val_loss: 3.4236 - val_accuracy: 0.5189\n",
      "Epoch 36/100\n",
      "196/196 [==============================] - 2s 11ms/step - loss: 0.1949 - accuracy: 0.9339 - val_loss: 3.2561 - val_accuracy: 0.5206\n",
      "Epoch 37/100\n",
      "196/196 [==============================] - 2s 12ms/step - loss: 0.1862 - accuracy: 0.9347 - val_loss: 3.4293 - val_accuracy: 0.5226\n",
      "Epoch 38/100\n",
      "196/196 [==============================] - 2s 12ms/step - loss: 0.1923 - accuracy: 0.9344 - val_loss: 3.2987 - val_accuracy: 0.5218\n",
      "Epoch 39/100\n",
      "196/196 [==============================] - 2s 11ms/step - loss: 0.1726 - accuracy: 0.9400 - val_loss: 3.5519 - val_accuracy: 0.5136\n",
      "Epoch 40/100\n",
      "196/196 [==============================] - 2s 11ms/step - loss: 0.1834 - accuracy: 0.9375 - val_loss: 3.5468 - val_accuracy: 0.5166\n",
      "Epoch 41/100\n",
      "196/196 [==============================] - 2s 11ms/step - loss: 0.1792 - accuracy: 0.9393 - val_loss: 3.4500 - val_accuracy: 0.5195\n",
      "Epoch 42/100\n",
      "196/196 [==============================] - 2s 11ms/step - loss: 0.1528 - accuracy: 0.9483 - val_loss: 3.6117 - val_accuracy: 0.5206\n",
      "Epoch 43/100\n",
      "196/196 [==============================] - 2s 12ms/step - loss: 0.1507 - accuracy: 0.9485 - val_loss: 3.6910 - val_accuracy: 0.5172\n",
      "Epoch 44/100\n",
      "196/196 [==============================] - 2s 11ms/step - loss: 0.1636 - accuracy: 0.9449 - val_loss: 3.6474 - val_accuracy: 0.5181\n",
      "Epoch 45/100\n",
      "196/196 [==============================] - 2s 11ms/step - loss: 0.1622 - accuracy: 0.9448 - val_loss: 3.6861 - val_accuracy: 0.5194\n",
      "Epoch 46/100\n",
      "196/196 [==============================] - 2s 12ms/step - loss: 0.1377 - accuracy: 0.9541 - val_loss: 3.6973 - val_accuracy: 0.5156\n",
      "Epoch 47/100\n",
      "196/196 [==============================] - 2s 12ms/step - loss: 0.1461 - accuracy: 0.9509 - val_loss: 3.8247 - val_accuracy: 0.5248\n",
      "Epoch 48/100\n",
      "196/196 [==============================] - 2s 11ms/step - loss: 0.1472 - accuracy: 0.9498 - val_loss: 3.8493 - val_accuracy: 0.5179\n",
      "Epoch 49/100\n",
      "196/196 [==============================] - 2s 11ms/step - loss: 0.1505 - accuracy: 0.9500 - val_loss: 3.7285 - val_accuracy: 0.5257\n",
      "Epoch 50/100\n",
      "196/196 [==============================] - 2s 11ms/step - loss: 0.1314 - accuracy: 0.9561 - val_loss: 3.7897 - val_accuracy: 0.5166\n",
      "Epoch 51/100\n",
      "196/196 [==============================] - 2s 11ms/step - loss: 0.1388 - accuracy: 0.9542 - val_loss: 4.0953 - val_accuracy: 0.5235\n",
      "Epoch 52/100\n",
      "196/196 [==============================] - 2s 12ms/step - loss: 0.1176 - accuracy: 0.9612 - val_loss: 3.8428 - val_accuracy: 0.5211\n",
      "Epoch 53/100\n",
      "196/196 [==============================] - 2s 12ms/step - loss: 0.1269 - accuracy: 0.9591 - val_loss: 3.9151 - val_accuracy: 0.5179\n",
      "Epoch 54/100\n",
      "196/196 [==============================] - 2s 11ms/step - loss: 0.1290 - accuracy: 0.9569 - val_loss: 4.0150 - val_accuracy: 0.5159\n",
      "Epoch 55/100\n",
      "196/196 [==============================] - 2s 11ms/step - loss: 0.1238 - accuracy: 0.9579 - val_loss: 4.0462 - val_accuracy: 0.5148\n",
      "Epoch 56/100\n",
      "196/196 [==============================] - 2s 12ms/step - loss: 0.1143 - accuracy: 0.9619 - val_loss: 4.1747 - val_accuracy: 0.5255\n",
      "Epoch 57/100\n",
      "196/196 [==============================] - 2s 12ms/step - loss: 0.1062 - accuracy: 0.9647 - val_loss: 4.1142 - val_accuracy: 0.5195\n",
      "Epoch 58/100\n",
      "196/196 [==============================] - 2s 11ms/step - loss: 0.1117 - accuracy: 0.9638 - val_loss: 4.2427 - val_accuracy: 0.5201\n",
      "Epoch 59/100\n",
      "196/196 [==============================] - 2s 12ms/step - loss: 0.1202 - accuracy: 0.9604 - val_loss: 3.9892 - val_accuracy: 0.5223\n",
      "Epoch 60/100\n",
      "196/196 [==============================] - 2s 12ms/step - loss: 0.1035 - accuracy: 0.9659 - val_loss: 4.3674 - val_accuracy: 0.5189\n",
      "Epoch 61/100\n",
      "196/196 [==============================] - 2s 12ms/step - loss: 0.1162 - accuracy: 0.9625 - val_loss: 4.2381 - val_accuracy: 0.5208\n",
      "Epoch 62/100\n",
      "196/196 [==============================] - 2s 11ms/step - loss: 0.1023 - accuracy: 0.9659 - val_loss: 4.1588 - val_accuracy: 0.5192\n",
      "Epoch 63/100\n",
      "196/196 [==============================] - 2s 11ms/step - loss: 0.1080 - accuracy: 0.9635 - val_loss: 4.0761 - val_accuracy: 0.5181\n",
      "Epoch 64/100\n",
      "196/196 [==============================] - 2s 11ms/step - loss: 0.1019 - accuracy: 0.9671 - val_loss: 4.4020 - val_accuracy: 0.5180\n",
      "Epoch 65/100\n",
      "196/196 [==============================] - 2s 11ms/step - loss: 0.1130 - accuracy: 0.9629 - val_loss: 4.1097 - val_accuracy: 0.5230\n",
      "Epoch 66/100\n",
      "196/196 [==============================] - 2s 12ms/step - loss: 0.1056 - accuracy: 0.9657 - val_loss: 4.2851 - val_accuracy: 0.5165\n",
      "Epoch 67/100\n",
      "196/196 [==============================] - 2s 12ms/step - loss: 0.0857 - accuracy: 0.9726 - val_loss: 4.2881 - val_accuracy: 0.5119\n",
      "Epoch 68/100\n",
      "196/196 [==============================] - 2s 12ms/step - loss: 0.0889 - accuracy: 0.9712 - val_loss: 4.5378 - val_accuracy: 0.5133\n",
      "Epoch 69/100\n",
      "196/196 [==============================] - 2s 11ms/step - loss: 0.1060 - accuracy: 0.9645 - val_loss: 4.3222 - val_accuracy: 0.5202\n",
      "Epoch 70/100\n",
      "196/196 [==============================] - 2s 11ms/step - loss: 0.0782 - accuracy: 0.9731 - val_loss: 4.3688 - val_accuracy: 0.5148\n",
      "Epoch 71/100\n",
      "196/196 [==============================] - 2s 11ms/step - loss: 0.1091 - accuracy: 0.9648 - val_loss: 4.1479 - val_accuracy: 0.5213\n",
      "Epoch 72/100\n",
      "196/196 [==============================] - 2s 12ms/step - loss: 0.1002 - accuracy: 0.9676 - val_loss: 4.2833 - val_accuracy: 0.5242\n",
      "Epoch 73/100\n",
      "196/196 [==============================] - 2s 11ms/step - loss: 0.1007 - accuracy: 0.9681 - val_loss: 4.4065 - val_accuracy: 0.5197\n",
      "Epoch 74/100\n",
      "196/196 [==============================] - 2s 11ms/step - loss: 0.0707 - accuracy: 0.9768 - val_loss: 4.4722 - val_accuracy: 0.5267\n",
      "Epoch 75/100\n",
      "196/196 [==============================] - 2s 12ms/step - loss: 0.0868 - accuracy: 0.9713 - val_loss: 4.3161 - val_accuracy: 0.5188\n",
      "Epoch 76/100\n",
      "196/196 [==============================] - 2s 12ms/step - loss: 0.0917 - accuracy: 0.9702 - val_loss: 4.6212 - val_accuracy: 0.5197\n",
      "Epoch 77/100\n",
      "196/196 [==============================] - 2s 12ms/step - loss: 0.0736 - accuracy: 0.9753 - val_loss: 4.6317 - val_accuracy: 0.5093\n",
      "Epoch 78/100\n",
      "196/196 [==============================] - 2s 11ms/step - loss: 0.0829 - accuracy: 0.9728 - val_loss: 4.3706 - val_accuracy: 0.5190\n",
      "Epoch 79/100\n",
      "196/196 [==============================] - 2s 11ms/step - loss: 0.0839 - accuracy: 0.9731 - val_loss: 4.4683 - val_accuracy: 0.5215\n",
      "Epoch 80/100\n",
      "196/196 [==============================] - 2s 11ms/step - loss: 0.0880 - accuracy: 0.9714 - val_loss: 4.3611 - val_accuracy: 0.5206\n",
      "Epoch 81/100\n",
      "196/196 [==============================] - 2s 11ms/step - loss: 0.0884 - accuracy: 0.9718 - val_loss: 4.3668 - val_accuracy: 0.5212\n",
      "Epoch 82/100\n",
      "196/196 [==============================] - 2s 11ms/step - loss: 0.0670 - accuracy: 0.9774 - val_loss: 4.6247 - val_accuracy: 0.5165\n",
      "Epoch 83/100\n",
      "196/196 [==============================] - 2s 11ms/step - loss: 0.0883 - accuracy: 0.9718 - val_loss: 4.4704 - val_accuracy: 0.5196\n",
      "Epoch 84/100\n",
      "196/196 [==============================] - 2s 12ms/step - loss: 0.0790 - accuracy: 0.9751 - val_loss: 4.5346 - val_accuracy: 0.5142\n",
      "Epoch 85/100\n",
      "196/196 [==============================] - 2s 11ms/step - loss: 0.0882 - accuracy: 0.9714 - val_loss: 4.3582 - val_accuracy: 0.5212\n",
      "Epoch 86/100\n",
      "196/196 [==============================] - 2s 11ms/step - loss: 0.0757 - accuracy: 0.9756 - val_loss: 4.4492 - val_accuracy: 0.5197\n",
      "Epoch 87/100\n",
      "196/196 [==============================] - 2s 11ms/step - loss: 0.0639 - accuracy: 0.9801 - val_loss: 4.5344 - val_accuracy: 0.5229\n",
      "Epoch 88/100\n",
      "196/196 [==============================] - 2s 11ms/step - loss: 0.0639 - accuracy: 0.9793 - val_loss: 4.8080 - val_accuracy: 0.5237\n",
      "Epoch 89/100\n",
      "196/196 [==============================] - 2s 12ms/step - loss: 0.1011 - accuracy: 0.9679 - val_loss: 4.3844 - val_accuracy: 0.5173\n",
      "Epoch 90/100\n",
      "196/196 [==============================] - 2s 13ms/step - loss: 0.0797 - accuracy: 0.9733 - val_loss: 4.4383 - val_accuracy: 0.5198\n",
      "Epoch 91/100\n",
      "196/196 [==============================] - 2s 12ms/step - loss: 0.0514 - accuracy: 0.9831 - val_loss: 4.8548 - val_accuracy: 0.5276\n",
      "Epoch 92/100\n",
      "196/196 [==============================] - 2s 11ms/step - loss: 0.0803 - accuracy: 0.9744 - val_loss: 4.4518 - val_accuracy: 0.5221\n",
      "Epoch 93/100\n",
      "196/196 [==============================] - 2s 11ms/step - loss: 0.0780 - accuracy: 0.9744 - val_loss: 4.5506 - val_accuracy: 0.5297\n",
      "Epoch 94/100\n",
      "196/196 [==============================] - 2s 11ms/step - loss: 0.0708 - accuracy: 0.9768 - val_loss: 4.5295 - val_accuracy: 0.5232\n",
      "Epoch 95/100\n",
      "196/196 [==============================] - 3s 13ms/step - loss: 0.0625 - accuracy: 0.9803 - val_loss: 4.8910 - val_accuracy: 0.5276\n",
      "Epoch 96/100\n",
      "196/196 [==============================] - 3s 13ms/step - loss: 0.0714 - accuracy: 0.9762 - val_loss: 4.5591 - val_accuracy: 0.5225\n",
      "Epoch 97/100\n",
      "196/196 [==============================] - 3s 13ms/step - loss: 0.0552 - accuracy: 0.9824 - val_loss: 4.8146 - val_accuracy: 0.5277\n",
      "Epoch 98/100\n",
      "196/196 [==============================] - 2s 12ms/step - loss: 0.0699 - accuracy: 0.9777 - val_loss: 4.5388 - val_accuracy: 0.5159\n",
      "Epoch 99/100\n",
      "196/196 [==============================] - 2s 12ms/step - loss: 0.0620 - accuracy: 0.9801 - val_loss: 4.6715 - val_accuracy: 0.5184\n",
      "Epoch 100/100\n",
      "196/196 [==============================] - 2s 11ms/step - loss: 0.0741 - accuracy: 0.9761 - val_loss: 4.5858 - val_accuracy: 0.5159\n"
     ]
    },
    {
     "data": {
      "text/plain": [
       "<keras.callbacks.History at 0x16ab4bcfb00>"
      ]
     },
     "execution_count": 8,
     "metadata": {},
     "output_type": "execute_result"
    }
   ],
   "source": [
    "model.fit(x_train, y_train, \n",
    "          epochs=EPOCHS, \n",
    "          batch_size=BATCH_SIZE, \n",
    "          validation_data=(x_test, y_test), \n",
    "          shuffle=True)"
   ]
  },
  {
   "cell_type": "code",
   "execution_count": 9,
   "metadata": {
    "id": "jThDeFlL4oXG",
    "outputId": "c8f6a381-da51-4682-8b02-fd9a0733007c"
   },
   "outputs": [
    {
     "name": "stdout",
     "output_type": "stream",
     "text": [
      "Final Validation Loss: 4.585841178894043\n",
      "Fianl Validation Accuracy: 0.5159000158309937\n"
     ]
    },
    {
     "data": {
      "image/png": "[encoded data removed]",
      "text/plain": [
       "<Figure size 432x288 with 1 Axes>"
      ]
     },
     "metadata": {
      "needs_background": "light"
     },
     "output_type": "display_data"
    },
    {
     "data": {
      "image/png": "[encoded data removed]",
      "text/plain": [
       "<Figure size 432x288 with 1 Axes>"
      ]
     },
     "metadata": {
      "needs_background": "light"
     },
     "output_type": "display_data"
    }
   ],
   "source": [
    "import matplotlib.pyplot as plt\n",
    "\n",
    "\n",
    "train_loss = model.history.history[\"loss\"]\n",
    "valid_loss = model.history.history[\"val_loss\"]\n",
    "print(f'Final Validation Loss: {valid_loss[-1]}')\n",
    "\n",
    "train_acc = model.history.history[\"accuracy\"]\n",
    "valid_acc = model.history.history[\"val_accuracy\"]\n",
    "print(f'Fianl Validation Accuracy: {valid_acc[-1]}')\n",
    "\n",
    "plt.plot(range(len(train_loss)), train_loss, label=\"train loss\")\n",
    "plt.plot(range(len(valid_loss)), valid_loss, label=\"valid loss\")\n",
    "plt.legend()\n",
    "plt.title(\"Loss\")\n",
    "plt.show()\n",
    "\n",
    "plt.plot(range(len(train_acc)), train_acc, label=\"train accuracy\")\n",
    "plt.plot(range(len(valid_acc)), valid_acc, label=\"valid accuracy\")\n",
    "plt.legend()\n",
    "plt.title(\"Accuracy\")\n",
    "plt.show()"
   ]
  },
  {
   "cell_type": "markdown",
   "metadata": {},
   "source": [
    "## 筆記\n",
    "### 3層Dense, num_neurons=[512, 256, 128]\n",
    "* Final Validation Loss: 5.637113094329834\n",
    "* Fianl Validation Accuracy: 0.5271000266075134 \n",
    "\n",
    "### 7層Dense, num_neurons=[512, 256, 128, 64, 32, 16, 8]\n",
    "* Final Validation Loss: 4.585841178894043\n",
    "* Fianl Validation Accuracy: 0.5159000158309937\n",
    "\n",
    "### 增加層數 - Accuracy沒有比較高可是loss下降"
   ]
  }
 ],
 "metadata": {
  "colab": {
   "name": "Day078_CheckBeforeTrain_作業 (更新).ipynb",
   "provenance": []
  },
  "kernelspec": {
   "display_name": "Python 3",
   "language": "python",
   "name": "python3"
  },
  "language_info": {
   "codemirror_mode": {
    "name": "ipython",
    "version": 3
   },
   "file_extension": ".py",
   "mimetype": "text/x-python",
   "name": "python",
   "nbconvert_exporter": "python",
   "pygments_lexer": "ipython3",
   "version": "3.6.13"
  }
 },
 "nbformat": 4,
 "nbformat_minor": 1
}
