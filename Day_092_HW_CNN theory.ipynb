{
 "cells": [
  {
   "cell_type": "markdown",
   "metadata": {},
   "source": [
    "請閱讀以下文獻，理解 CNN 原理後回答問題\n",
    "- [卷積神經網路原理 - 中文](https://brohrer.mcknote.com/zh-Hant/how_machine_learning_works/how_convolutional_neural_networks_work.html)\n",
    "- [CNN for beginner’s guide](https://adeshpande3.github.io/A-Beginner%27s-Guide-To-Understanding-Convolutional-Neural-Networks/)\n",
    "\n",
    "1. 若使用總共 128 個濾波器 (filters)，對一張 256x256 的影像做完卷積後，共會得到幾張特徵圖 (feature maps)？\n",
    "2. 卷積神經網路中，濾波器的大小 (3x3 or 5x5) 與內部數字的值 (value) 是怎麼決定的呢？\n"
   ]
  },
  {
   "cell_type": "markdown",
   "metadata": {},
   "source": [
    "## 1. 如果使用總共 128 個濾波器對一張 256x256 的圖像進行卷積，每個濾波器產生一張特徵圖，那麼卷積操作將為每個濾波器產生一張特徵圖。 因此，總共會得到 128 張特徵圖。\n",
    "\n",
    "## 2. 濾波器的設計和參數的學習是由神經網路的訓練過程決定的。透過大量的訓練數據，網路可以自動學習到合適的濾波器參數，以便在給定任務上取得最佳效能。這種自動學習的能力是深度學習的關鍵之一。\n",
    "* 濾波器的大小：濾波器的大小通常由網路的設計者在建立模型時決定。常見的濾波器大小包括 3x3 和 5x5。較小的濾波器通常能夠捕捉更局部的特徵，而較大的濾波器則能夠捕捉更大範圍的特徵。\n",
    "* 內部數值的值：濾波器中的參數（內部數值）是透過訓練資料和目標函數（損失函數）來學習的。訓練過程中，網路透過反向傳播演算法計算梯度，並利用梯度下降或其他最佳化演算法來更新濾波器參數，使得損失函數最小化。這樣，濾波器的參數就會被調整，以便網路學習到輸入資料中的有用特徵。"
   ]
  }
 ],
 "metadata": {
  "kernelspec": {
   "display_name": "Python 3",
   "language": "python",
   "name": "python3"
  },
  "language_info": {
   "codemirror_mode": {
    "name": "ipython",
    "version": 3
   },
   "file_extension": ".py",
   "mimetype": "text/x-python",
   "name": "python",
   "nbconvert_exporter": "python",
   "pygments_lexer": "ipython3",
   "version": "3.6.13"
  }
 },
 "nbformat": 4,
 "nbformat_minor": 2
}
