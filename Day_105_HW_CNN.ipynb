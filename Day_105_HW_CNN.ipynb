{
 "cells": [
  {
   "cell_type": "markdown",
   "metadata": {},
   "source": [
    "# 教學目標:\n",
    "    \n",
    "回顧 CNN 網路"
   ]
  },
  {
   "cell_type": "markdown",
   "metadata": {},
   "source": [
    "# 範例說明:\n",
    "    \n",
    "使用 keras 預載的模型\n",
    "\n",
    "使用 keras VGG16 預訓練的權重\n",
    "\n",
    "了解預測後的結果輸出"
   ]
  },
  {
   "cell_type": "markdown",
   "metadata": {},
   "source": [
    "# 作業:\n",
    "\n",
    "    回答 Q&A"
   ]
  },
  {
   "cell_type": "code",
   "execution_count": null,
   "metadata": {},
   "outputs": [],
   "source": [
    "from keras.applications.vgg16 import VGG16\n",
    "from keras.preprocessing import image\n",
    "from keras.applications.vgg16 import preprocess_input\n",
    "import numpy as np\n",
    "\n",
    "#載入預訓練模型\n",
    "model = VGG16(weights='imagenet', include_top=False)\n",
    "\n",
    " # VGG 現存模型要找到一張名為elephant.jpg做處理的預設路徑\n",
    "img_path = 'elephant.jpg'\n",
    "#載入影像\n",
    "img = image.load_img(img_path, target_size=(224, 224))\n",
    "x = image.img_to_array(img)\n",
    "x = np.expand_dims(x, axis=0)\n",
    "x = preprocess_input(x)\n",
    "\n",
    "#執行預測\n",
    "features = model.predict(x)\n",
    "print(features)\n",
    "# decode_predictions 輸出5個最高概率：(類別, 語義概念, 預測概率"
   ]
  },
  {
   "cell_type": "markdown",
   "metadata": {},
   "source": [
    "## 為什麼在CNNs中激活函數選用ReLU，而不用sigmoid或tanh函數？\n",
    "以下是一些ReLU相對於sigmoid和tanh的優點：\n",
    "### 1.消失的梯度問題（Vanishing Gradient Problem）：\n",
    "* Sigmoid和tanh函數在輸入極值附近飽和，導致梯度接近零。當反向傳播算法嘗試更新權重時，這些小的梯度可能導致權重幾乎不發生變化，從而使神經網絡難以學習。ReLU通常不存在這個問題，因為它在正區域的梯度始終是1。\n",
    "\n",
    "### 2.計算效率：\n",
    "* ReLU的計算相對簡單，它只是將負數部分變為零，而不需要進行複雜的指數運算。這使得訓練過程更快，尤其在深層網絡中。\n",
    "\n",
    "### 3.稀疏性：\n",
    "* ReLU的輸出對於負數輸入是零，這種稀疏性有助於網絡學習更具鑑別性的特徵，提高模型的表達能力。\n",
    "\n",
    "### 4.非線性特性：\n",
    "* ReLU是一個非線性函數，它允許神經網絡學習更複雜的特徵和模式。sigmoid和tanh也是非線性的，但它們在某些情況下可能受到梯度消失問題的影響。"
   ]
  }
 ],
 "metadata": {
  "kernelspec": {
   "display_name": "Python 3",
   "language": "python",
   "name": "python3"
  },
  "language_info": {
   "codemirror_mode": {
    "name": "ipython",
    "version": 3
   },
   "file_extension": ".py",
   "mimetype": "text/x-python",
   "name": "python",
   "nbconvert_exporter": "python",
   "pygments_lexer": "ipython3",
   "version": "3.6.13"
  }
 },
 "nbformat": 4,
 "nbformat_minor": 2
}
